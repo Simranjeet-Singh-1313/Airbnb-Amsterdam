{
  "nbformat": 4,
  "nbformat_minor": 0,
  "metadata": {
    "colab": {
      "name": "Part1_2_Final.ipynb",
      "provenance": [],
      "collapsed_sections": [],
      "include_colab_link": true
    },
    "kernelspec": {
      "display_name": "Python 3",
      "language": "python",
      "name": "python3"
    },
    "language_info": {
      "codemirror_mode": {
        "name": "ipython",
        "version": 3
      },
      "file_extension": ".py",
      "mimetype": "text/x-python",
      "name": "python",
      "nbconvert_exporter": "python",
      "pygments_lexer": "ipython3",
      "version": "3.6.12"
    }
  },
  "cells": [
    {
      "cell_type": "markdown",
      "metadata": {
        "id": "view-in-github",
        "colab_type": "text"
      },
      "source": [
        "<a href=\"https://colab.research.google.com/github/Simranjeet-Singh-1313/Airbnb-Amsterdam/blob/main/Part1_2_Final.ipynb\" target=\"_parent\"><img src=\"https://colab.research.google.com/assets/colab-badge.svg\" alt=\"Open In Colab\"/></a>"
      ]
    },
    {
      "cell_type": "markdown",
      "metadata": {
        "id": "dqt4J3J4eZLs"
      },
      "source": [
        "# CMT 309 Data Science Portfolio\n",
        "# Parts 1 and 2\n",
        "\n",
        "---"
      ]
    },
    {
      "cell_type": "markdown",
      "metadata": {
        "id": "3Pe7XhS9wEVw"
      },
      "source": [
        "# Part 1 - Pre-processing and exploratory analysis\n",
        "\n",
        "Instructions:\n",
        "\n",
        "- Answer the questions by filling in the appropriate sections of this file. \n",
        "- Do not remove or rename section headings or any code that has been provided, unless instructed otherwise.\n",
        "- You can add as many additional cells with code as you like.\n",
        "\n",
        "Before submitting,\n",
        "\n",
        "- Ensure that the code is clean, readable, and well documented. \n",
        "- Restart the kernel (to wipe all variables) and then run the code from top to bottom to produce all intermediate outputs. "
      ]
    },
    {
      "cell_type": "code",
      "metadata": {
        "colab": {
          "base_uri": "https://localhost:8080/"
        },
        "id": "lNKlXUKJb6f8",
        "outputId": "702e0c95-e454-4ad5-d345-01323c4a4051"
      },
      "source": [
        "!pip install ipython-autotime\n",
        " \n",
        "%load_ext autotime"
      ],
      "execution_count": 1,
      "outputs": [
        {
          "output_type": "stream",
          "text": [
            "Collecting ipython-autotime\n",
            "  Downloading https://files.pythonhosted.org/packages/b4/c9/b413a24f759641bc27ef98c144b590023c8038dfb8a3f09e713e9dff12c1/ipython_autotime-0.3.1-py2.py3-none-any.whl\n",
            "Requirement already satisfied: ipython in /usr/local/lib/python3.7/dist-packages (from ipython-autotime) (5.5.0)\n",
            "Requirement already satisfied: setuptools>=18.5 in /usr/local/lib/python3.7/dist-packages (from ipython->ipython-autotime) (57.0.0)\n",
            "Requirement already satisfied: pexpect; sys_platform != \"win32\" in /usr/local/lib/python3.7/dist-packages (from ipython->ipython-autotime) (4.8.0)\n",
            "Requirement already satisfied: decorator in /usr/local/lib/python3.7/dist-packages (from ipython->ipython-autotime) (4.4.2)\n",
            "Requirement already satisfied: pickleshare in /usr/local/lib/python3.7/dist-packages (from ipython->ipython-autotime) (0.7.5)\n",
            "Requirement already satisfied: simplegeneric>0.8 in /usr/local/lib/python3.7/dist-packages (from ipython->ipython-autotime) (0.8.1)\n",
            "Requirement already satisfied: traitlets>=4.2 in /usr/local/lib/python3.7/dist-packages (from ipython->ipython-autotime) (5.0.5)\n",
            "Requirement already satisfied: prompt-toolkit<2.0.0,>=1.0.4 in /usr/local/lib/python3.7/dist-packages (from ipython->ipython-autotime) (1.0.18)\n",
            "Requirement already satisfied: pygments in /usr/local/lib/python3.7/dist-packages (from ipython->ipython-autotime) (2.6.1)\n",
            "Requirement already satisfied: ptyprocess>=0.5 in /usr/local/lib/python3.7/dist-packages (from pexpect; sys_platform != \"win32\"->ipython->ipython-autotime) (0.7.0)\n",
            "Requirement already satisfied: ipython-genutils in /usr/local/lib/python3.7/dist-packages (from traitlets>=4.2->ipython->ipython-autotime) (0.2.0)\n",
            "Requirement already satisfied: wcwidth in /usr/local/lib/python3.7/dist-packages (from prompt-toolkit<2.0.0,>=1.0.4->ipython->ipython-autotime) (0.2.5)\n",
            "Requirement already satisfied: six>=1.9.0 in /usr/local/lib/python3.7/dist-packages (from prompt-toolkit<2.0.0,>=1.0.4->ipython->ipython-autotime) (1.15.0)\n",
            "Installing collected packages: ipython-autotime\n",
            "Successfully installed ipython-autotime-0.3.1\n",
            "time: 3.48 ms (started: 2021-06-04 18:48:09 +00:00)\n"
          ],
          "name": "stdout"
        }
      ]
    },
    {
      "cell_type": "code",
      "metadata": {
        "colab": {
          "base_uri": "https://localhost:8080/"
        },
        "id": "acSREWbeG0mm",
        "outputId": "ba75f181-00e0-4032-f8f9-5a84f22524bd"
      },
      "source": [
        "import scipy, os\n",
        "import pandas as pd\n",
        "import numpy as np\n",
        "import seaborn as sns\n",
        "import matplotlib.pyplot as plt\n",
        "import statsmodels.api as sm\n",
        "from tqdm import tqdm\n",
        "from collections import Counter\n",
        "import os\n",
        "import operator\n",
        "from scipy.spatial import distance\n",
        "# add more imports here if you like\n",
        "# ..."
      ],
      "execution_count": 2,
      "outputs": [
        {
          "output_type": "stream",
          "text": [
            "/usr/local/lib/python3.7/dist-packages/statsmodels/tools/_testing.py:19: FutureWarning: pandas.util.testing is deprecated. Use the functions in the public API at pandas.testing instead.\n",
            "  import pandas.util.testing as tm\n"
          ],
          "name": "stderr"
        },
        {
          "output_type": "stream",
          "text": [
            "time: 1.41 s (started: 2021-06-04 18:48:09 +00:00)\n"
          ],
          "name": "stdout"
        }
      ]
    },
    {
      "cell_type": "code",
      "metadata": {
        "colab": {
          "base_uri": "https://localhost:8080/"
        },
        "id": "A6CTk1ZiFVIk",
        "outputId": "95a055d6-6318-4d05-874d-daad3f53f561"
      },
      "source": [
        "# if you use Google Colab:\n",
        "from google.colab import drive\n",
        "drive.mount('/content/drive')"
      ],
      "execution_count": 3,
      "outputs": [
        {
          "output_type": "stream",
          "text": [
            "Mounted at /content/drive\n",
            "time: 38.2 s (started: 2021-06-04 18:48:11 +00:00)\n"
          ],
          "name": "stdout"
        }
      ]
    },
    {
      "cell_type": "code",
      "metadata": {
        "id": "ycIjzElBzG2x",
        "colab": {
          "base_uri": "https://localhost:8080/"
        },
        "outputId": "f9a4e4e1-9cd9-4b03-c9fa-b322355c8075"
      },
      "source": [
        "# change this line your folder where the data is found\n",
        "basedir = '/content/drive/MyDrive/Computational Data science/'"
      ],
      "execution_count": 4,
      "outputs": [
        {
          "output_type": "stream",
          "text": [
            "time: 1.95 ms (started: 2021-06-04 18:48:49 +00:00)\n"
          ],
          "name": "stdout"
        }
      ]
    },
    {
      "cell_type": "markdown",
      "metadata": {
        "id": "vwuEFzzUKzJW"
      },
      "source": [
        "In this part you will be working with the  `listings.csv` data. To help you wrap around your head we will first provide some information on the main columns in the data.\n",
        "\n",
        "***Dataframe columns description***:\n",
        "\n",
        "- `id` - unique ID identifying the listing\n",
        "\n",
        "- `name` - title of the listing\n",
        "\n",
        "- `host_id` - unique ID for a host\n",
        "\n",
        "- `host_name` - first name of the host\n",
        "\n",
        "- `host_since` - date that the host first joined Airbnb\n",
        "\n",
        "- `host_is_superhost` - whether or not the host is a superhost, which is a mark of quality for the top-rated and most experienced hosts, and can increase your search ranking on Airbnb\n",
        "\n",
        "- `host_listings_count` - how many listings the host has in total\n",
        "\n",
        "- `host_has_profile_pic` - whether or not the host has a profile picture\n",
        "\n",
        "- `host_identity_verified` - whether or not the host has been verified with his passport\n",
        "\n",
        "- `neighbourhood_cleansed` - the borough the property is in\n",
        "\n",
        "- `latitude` and `longitude` - geolocation coordinates of the property\n",
        "\n",
        "- `property_type` - type of property, e.g. house or flat\n",
        "\n",
        "- `room_type` - type of listing, e.g. entire home, private room or shared room\n",
        "\n",
        "- `accommodates` - how many people the property accommodates\n",
        "\n",
        "- `bedrooms` - number of bedrooms\n",
        "\n",
        "- `beds` - number of beds\n",
        "\n",
        "- `price` - nightly advertised price (the target variable)\n",
        "\n",
        "- `minimum_nights` - the minimum length of stay\n",
        "\n",
        "- `maximum_nights` - the maximum length of stay\n",
        "\n",
        "- `availability_30` - how many nights are available to be booked in the next 30 days\n",
        "\n",
        "- `availability_60` - how many nights are available to be booked in the next 60 days\n",
        "\n",
        "- `availability_90` - how many nights are available to be booked in the next 90 days\n",
        "\n",
        "- `availability_365` - how many nights are available to be booked in the next 365 days\n",
        "\n",
        "- `number_of_reviews` - the number of reviews left for the property\n",
        "\n",
        "- `number_of_reviews_ltm` - the number of reviews left for the property in the last twelve months\n",
        "\n",
        "- `first_review` - the date of the first review\n",
        "\n",
        "- `last_review` - the date of the most recent review\n",
        "\n",
        "- `review_scores_rating` - guests can score properties overall from 1 to 5 stars\n",
        "\n",
        "- `review_scores_accuracy` - guests can score the accuracy of a property's description from 1 to 5 stars\n",
        "\n",
        "- `review_scores_cleanliness` - guests can score a property's cleanliness from 1 to 5 stars\n",
        "\n",
        "- `review_scores_checkin` - guests can score their check-in from 1 to 5 stars\n",
        "\n",
        "- `review_scores_communication` - guests can score a host's communication from 1 to 5 stars\n",
        "\n",
        "- `review_scores_location` - guests can score a property's location from 1 to 5 stars\n",
        "\n",
        "- `review_scores_value` - guests can score a booking's value for money from 1 to 5 stars\n",
        "\n",
        "- `instant_bookable` - whether or not the property can be instant booked (i.e. booked straight away, without having to message the host first and wait to be accepted)\n",
        "\n",
        "- `reviews_per_month` - calculated field of the average number of reviews left by guest each month\n",
        "\n",
        "\n",
        "The next two cells load the `listings.csv` file into a dataframe. Once loaded, start working on the subsequent questions."
      ]
    },
    {
      "cell_type": "code",
      "metadata": {
        "id": "K4zobPQJzKAX",
        "colab": {
          "base_uri": "https://localhost:8080/"
        },
        "outputId": "63126bc1-6882-4ae8-d700-695403960055"
      },
      "source": [
        "### DO NOT CHANGE THIS CELL\n",
        "def load_csv(basedir):\n",
        "  return pd.read_csv(os.path.join(basedir, 'listings.csv'))"
      ],
      "execution_count": 5,
      "outputs": [
        {
          "output_type": "stream",
          "text": [
            "time: 2.08 ms (started: 2021-06-04 18:48:49 +00:00)\n"
          ],
          "name": "stdout"
        }
      ]
    },
    {
      "cell_type": "code",
      "metadata": {
        "colab": {
          "base_uri": "https://localhost:8080/",
          "height": 598
        },
        "id": "73pNEQSv5_WZ",
        "outputId": "0cba86c1-cf15-464b-f603-48ca30252ccf"
      },
      "source": [
        "### DO NOT CHANGE THIS CELL\n",
        "df = load_csv(basedir)\n",
        "df.head()"
      ],
      "execution_count": 6,
      "outputs": [
        {
          "output_type": "execute_result",
          "data": {
            "text/html": [
              "<div>\n",
              "<style scoped>\n",
              "    .dataframe tbody tr th:only-of-type {\n",
              "        vertical-align: middle;\n",
              "    }\n",
              "\n",
              "    .dataframe tbody tr th {\n",
              "        vertical-align: top;\n",
              "    }\n",
              "\n",
              "    .dataframe thead th {\n",
              "        text-align: right;\n",
              "    }\n",
              "</style>\n",
              "<table border=\"1\" class=\"dataframe\">\n",
              "  <thead>\n",
              "    <tr style=\"text-align: right;\">\n",
              "      <th></th>\n",
              "      <th>id</th>\n",
              "      <th>listing_url</th>\n",
              "      <th>scrape_id</th>\n",
              "      <th>last_scraped</th>\n",
              "      <th>name</th>\n",
              "      <th>description</th>\n",
              "      <th>neighborhood_overview</th>\n",
              "      <th>picture_url</th>\n",
              "      <th>host_id</th>\n",
              "      <th>host_url</th>\n",
              "      <th>host_name</th>\n",
              "      <th>host_since</th>\n",
              "      <th>host_location</th>\n",
              "      <th>host_about</th>\n",
              "      <th>host_response_time</th>\n",
              "      <th>host_response_rate</th>\n",
              "      <th>host_acceptance_rate</th>\n",
              "      <th>host_is_superhost</th>\n",
              "      <th>host_thumbnail_url</th>\n",
              "      <th>host_picture_url</th>\n",
              "      <th>host_neighbourhood</th>\n",
              "      <th>host_listings_count</th>\n",
              "      <th>host_total_listings_count</th>\n",
              "      <th>host_verifications</th>\n",
              "      <th>host_has_profile_pic</th>\n",
              "      <th>host_identity_verified</th>\n",
              "      <th>neighbourhood</th>\n",
              "      <th>neighbourhood_cleansed</th>\n",
              "      <th>neighbourhood_group_cleansed</th>\n",
              "      <th>latitude</th>\n",
              "      <th>longitude</th>\n",
              "      <th>property_type</th>\n",
              "      <th>room_type</th>\n",
              "      <th>accommodates</th>\n",
              "      <th>bathrooms</th>\n",
              "      <th>bathrooms_text</th>\n",
              "      <th>bedrooms</th>\n",
              "      <th>beds</th>\n",
              "      <th>amenities</th>\n",
              "      <th>price</th>\n",
              "      <th>minimum_nights</th>\n",
              "      <th>maximum_nights</th>\n",
              "      <th>minimum_minimum_nights</th>\n",
              "      <th>maximum_minimum_nights</th>\n",
              "      <th>minimum_maximum_nights</th>\n",
              "      <th>maximum_maximum_nights</th>\n",
              "      <th>minimum_nights_avg_ntm</th>\n",
              "      <th>maximum_nights_avg_ntm</th>\n",
              "      <th>calendar_updated</th>\n",
              "      <th>has_availability</th>\n",
              "      <th>availability_30</th>\n",
              "      <th>availability_60</th>\n",
              "      <th>availability_90</th>\n",
              "      <th>availability_365</th>\n",
              "      <th>calendar_last_scraped</th>\n",
              "      <th>number_of_reviews</th>\n",
              "      <th>number_of_reviews_ltm</th>\n",
              "      <th>number_of_reviews_l30d</th>\n",
              "      <th>first_review</th>\n",
              "      <th>last_review</th>\n",
              "      <th>review_scores_rating</th>\n",
              "      <th>review_scores_accuracy</th>\n",
              "      <th>review_scores_cleanliness</th>\n",
              "      <th>review_scores_checkin</th>\n",
              "      <th>review_scores_communication</th>\n",
              "      <th>review_scores_location</th>\n",
              "      <th>review_scores_value</th>\n",
              "      <th>license</th>\n",
              "      <th>instant_bookable</th>\n",
              "      <th>calculated_host_listings_count</th>\n",
              "      <th>calculated_host_listings_count_entire_homes</th>\n",
              "      <th>calculated_host_listings_count_private_rooms</th>\n",
              "      <th>calculated_host_listings_count_shared_rooms</th>\n",
              "      <th>reviews_per_month</th>\n",
              "    </tr>\n",
              "  </thead>\n",
              "  <tbody>\n",
              "    <tr>\n",
              "      <th>0</th>\n",
              "      <td>2818</td>\n",
              "      <td>https://www.airbnb.com/rooms/2818</td>\n",
              "      <td>20201212211823</td>\n",
              "      <td>2020-12-13</td>\n",
              "      <td>Quiet Garden View Room &amp; Super Fast WiFi</td>\n",
              "      <td>Quiet Garden View Room &amp; Super Fast WiFi&lt;br /&gt;...</td>\n",
              "      <td>Indische Buurt (\"Indies Neighborhood\") is a ne...</td>\n",
              "      <td>https://a0.muscache.com/pictures/10272854/8dcc...</td>\n",
              "      <td>3159</td>\n",
              "      <td>https://www.airbnb.com/users/show/3159</td>\n",
              "      <td>Daniel</td>\n",
              "      <td>2008-09-24</td>\n",
              "      <td>Amsterdam, Noord-Holland, The Netherlands</td>\n",
              "      <td>Upon arriving in Amsterdam, one can imagine as...</td>\n",
              "      <td>NaN</td>\n",
              "      <td>NaN</td>\n",
              "      <td>100%</td>\n",
              "      <td>t</td>\n",
              "      <td>https://a0.muscache.com/im/users/3159/profile_...</td>\n",
              "      <td>https://a0.muscache.com/im/users/3159/profile_...</td>\n",
              "      <td>Indische Buurt</td>\n",
              "      <td>1.0</td>\n",
              "      <td>1.0</td>\n",
              "      <td>['email', 'phone', 'reviews', 'jumio', 'offlin...</td>\n",
              "      <td>t</td>\n",
              "      <td>t</td>\n",
              "      <td>Amsterdam, North Holland, Netherlands</td>\n",
              "      <td>Oostelijk Havengebied - Indische Buurt</td>\n",
              "      <td>NaN</td>\n",
              "      <td>52.36575</td>\n",
              "      <td>4.94142</td>\n",
              "      <td>Private room in apartment</td>\n",
              "      <td>Private room</td>\n",
              "      <td>2</td>\n",
              "      <td>NaN</td>\n",
              "      <td>1.5 shared baths</td>\n",
              "      <td>1.0</td>\n",
              "      <td>2.0</td>\n",
              "      <td>[\"Lock on bedroom door\", \"Carbon monoxide alar...</td>\n",
              "      <td>$59.00</td>\n",
              "      <td>3</td>\n",
              "      <td>1125</td>\n",
              "      <td>3.0</td>\n",
              "      <td>3.0</td>\n",
              "      <td>1125.0</td>\n",
              "      <td>1125.0</td>\n",
              "      <td>3.0</td>\n",
              "      <td>1125.0</td>\n",
              "      <td>NaN</td>\n",
              "      <td>t</td>\n",
              "      <td>12</td>\n",
              "      <td>42</td>\n",
              "      <td>62</td>\n",
              "      <td>123</td>\n",
              "      <td>2020-12-13</td>\n",
              "      <td>278</td>\n",
              "      <td>1</td>\n",
              "      <td>0</td>\n",
              "      <td>2009-03-30</td>\n",
              "      <td>2020-02-14</td>\n",
              "      <td>98.0</td>\n",
              "      <td>10.0</td>\n",
              "      <td>10.0</td>\n",
              "      <td>10.0</td>\n",
              "      <td>10.0</td>\n",
              "      <td>9.0</td>\n",
              "      <td>10.0</td>\n",
              "      <td>NaN</td>\n",
              "      <td>t</td>\n",
              "      <td>1</td>\n",
              "      <td>0</td>\n",
              "      <td>1</td>\n",
              "      <td>0</td>\n",
              "      <td>1.95</td>\n",
              "    </tr>\n",
              "    <tr>\n",
              "      <th>1</th>\n",
              "      <td>20168</td>\n",
              "      <td>https://www.airbnb.com/rooms/20168</td>\n",
              "      <td>20201212211823</td>\n",
              "      <td>2020-12-13</td>\n",
              "      <td>Studio with private bathroom in the centre 1</td>\n",
              "      <td>17th century Dutch townhouse in the heart of t...</td>\n",
              "      <td>Located just in between famous central canals....</td>\n",
              "      <td>https://a0.muscache.com/pictures/69979628/fd6a...</td>\n",
              "      <td>59484</td>\n",
              "      <td>https://www.airbnb.com/users/show/59484</td>\n",
              "      <td>Alexander</td>\n",
              "      <td>2009-12-02</td>\n",
              "      <td>Amsterdam, Noord-Holland, The Netherlands</td>\n",
              "      <td>+ (Phone number hidden by Airbnb)</td>\n",
              "      <td>NaN</td>\n",
              "      <td>NaN</td>\n",
              "      <td>100%</td>\n",
              "      <td>f</td>\n",
              "      <td>https://a0.muscache.com/im/pictures/user/65092...</td>\n",
              "      <td>https://a0.muscache.com/im/pictures/user/65092...</td>\n",
              "      <td>Grachtengordel</td>\n",
              "      <td>2.0</td>\n",
              "      <td>2.0</td>\n",
              "      <td>['email', 'phone', 'reviews', 'jumio', 'offlin...</td>\n",
              "      <td>t</td>\n",
              "      <td>t</td>\n",
              "      <td>Amsterdam, North Holland, Netherlands</td>\n",
              "      <td>Centrum-Oost</td>\n",
              "      <td>NaN</td>\n",
              "      <td>52.36509</td>\n",
              "      <td>4.89354</td>\n",
              "      <td>Private room in townhouse</td>\n",
              "      <td>Private room</td>\n",
              "      <td>2</td>\n",
              "      <td>NaN</td>\n",
              "      <td>1 private bath</td>\n",
              "      <td>1.0</td>\n",
              "      <td>1.0</td>\n",
              "      <td>[\"Wifi\", \"Hot water\", \"Hangers\", \"Host greets ...</td>\n",
              "      <td>$236.00</td>\n",
              "      <td>1</td>\n",
              "      <td>365</td>\n",
              "      <td>4.0</td>\n",
              "      <td>4.0</td>\n",
              "      <td>60.0</td>\n",
              "      <td>365.0</td>\n",
              "      <td>4.0</td>\n",
              "      <td>300.8</td>\n",
              "      <td>NaN</td>\n",
              "      <td>t</td>\n",
              "      <td>3</td>\n",
              "      <td>3</td>\n",
              "      <td>3</td>\n",
              "      <td>3</td>\n",
              "      <td>2020-12-13</td>\n",
              "      <td>339</td>\n",
              "      <td>31</td>\n",
              "      <td>0</td>\n",
              "      <td>2010-03-02</td>\n",
              "      <td>2020-04-09</td>\n",
              "      <td>89.0</td>\n",
              "      <td>10.0</td>\n",
              "      <td>10.0</td>\n",
              "      <td>10.0</td>\n",
              "      <td>10.0</td>\n",
              "      <td>10.0</td>\n",
              "      <td>9.0</td>\n",
              "      <td>NaN</td>\n",
              "      <td>t</td>\n",
              "      <td>2</td>\n",
              "      <td>0</td>\n",
              "      <td>2</td>\n",
              "      <td>0</td>\n",
              "      <td>2.58</td>\n",
              "    </tr>\n",
              "    <tr>\n",
              "      <th>2</th>\n",
              "      <td>25428</td>\n",
              "      <td>https://www.airbnb.com/rooms/25428</td>\n",
              "      <td>20201212211823</td>\n",
              "      <td>2020-12-13</td>\n",
              "      <td>Lovely apt in City Centre (w.lift) near Jordaan</td>\n",
              "      <td>Lovely apt in Centre ( lift &amp; fireplace) near ...</td>\n",
              "      <td>NaN</td>\n",
              "      <td>https://a0.muscache.com/pictures/138431/7079a9...</td>\n",
              "      <td>56142</td>\n",
              "      <td>https://www.airbnb.com/users/show/56142</td>\n",
              "      <td>Joan</td>\n",
              "      <td>2009-11-20</td>\n",
              "      <td>New York, New York, United States</td>\n",
              "      <td>We are a retired couple who live in NYC, and h...</td>\n",
              "      <td>within an hour</td>\n",
              "      <td>100%</td>\n",
              "      <td>57%</td>\n",
              "      <td>t</td>\n",
              "      <td>https://a0.muscache.com/im/users/56142/profile...</td>\n",
              "      <td>https://a0.muscache.com/im/users/56142/profile...</td>\n",
              "      <td>Grachtengordel</td>\n",
              "      <td>2.0</td>\n",
              "      <td>2.0</td>\n",
              "      <td>['email', 'phone', 'reviews']</td>\n",
              "      <td>t</td>\n",
              "      <td>f</td>\n",
              "      <td>NaN</td>\n",
              "      <td>Centrum-West</td>\n",
              "      <td>NaN</td>\n",
              "      <td>52.37297</td>\n",
              "      <td>4.88339</td>\n",
              "      <td>Entire apartment</td>\n",
              "      <td>Entire home/apt</td>\n",
              "      <td>3</td>\n",
              "      <td>NaN</td>\n",
              "      <td>1 bath</td>\n",
              "      <td>1.0</td>\n",
              "      <td>1.0</td>\n",
              "      <td>[\"Microwave\", \"Refrigerator\", \"Dishes and silv...</td>\n",
              "      <td>$125.00</td>\n",
              "      <td>14</td>\n",
              "      <td>180</td>\n",
              "      <td>14.0</td>\n",
              "      <td>14.0</td>\n",
              "      <td>180.0</td>\n",
              "      <td>180.0</td>\n",
              "      <td>14.0</td>\n",
              "      <td>180.0</td>\n",
              "      <td>NaN</td>\n",
              "      <td>t</td>\n",
              "      <td>7</td>\n",
              "      <td>7</td>\n",
              "      <td>7</td>\n",
              "      <td>33</td>\n",
              "      <td>2020-12-13</td>\n",
              "      <td>5</td>\n",
              "      <td>2</td>\n",
              "      <td>0</td>\n",
              "      <td>2018-01-21</td>\n",
              "      <td>2020-02-09</td>\n",
              "      <td>100.0</td>\n",
              "      <td>10.0</td>\n",
              "      <td>10.0</td>\n",
              "      <td>10.0</td>\n",
              "      <td>10.0</td>\n",
              "      <td>10.0</td>\n",
              "      <td>10.0</td>\n",
              "      <td>NaN</td>\n",
              "      <td>f</td>\n",
              "      <td>1</td>\n",
              "      <td>1</td>\n",
              "      <td>0</td>\n",
              "      <td>0</td>\n",
              "      <td>0.14</td>\n",
              "    </tr>\n",
              "    <tr>\n",
              "      <th>3</th>\n",
              "      <td>27886</td>\n",
              "      <td>https://www.airbnb.com/rooms/27886</td>\n",
              "      <td>20201212211823</td>\n",
              "      <td>2020-12-13</td>\n",
              "      <td>Romantic, stylish B&amp;B houseboat in canal district</td>\n",
              "      <td>Stylish and romantic houseboat on fantastic hi...</td>\n",
              "      <td>Central, quiet, safe, clean and beautiful.</td>\n",
              "      <td>https://a0.muscache.com/pictures/02c2da9d-660e...</td>\n",
              "      <td>97647</td>\n",
              "      <td>https://www.airbnb.com/users/show/97647</td>\n",
              "      <td>Flip</td>\n",
              "      <td>2010-03-23</td>\n",
              "      <td>Amsterdam, Noord-Holland, The Netherlands</td>\n",
              "      <td>Marjan works in \"eye\" the dutch filmmuseum, an...</td>\n",
              "      <td>within an hour</td>\n",
              "      <td>100%</td>\n",
              "      <td>100%</td>\n",
              "      <td>t</td>\n",
              "      <td>https://a0.muscache.com/im/users/97647/profile...</td>\n",
              "      <td>https://a0.muscache.com/im/users/97647/profile...</td>\n",
              "      <td>Westelijke Eilanden</td>\n",
              "      <td>1.0</td>\n",
              "      <td>1.0</td>\n",
              "      <td>['email', 'phone', 'reviews', 'jumio', 'offlin...</td>\n",
              "      <td>t</td>\n",
              "      <td>t</td>\n",
              "      <td>Amsterdam, North Holland, Netherlands</td>\n",
              "      <td>Centrum-West</td>\n",
              "      <td>NaN</td>\n",
              "      <td>52.38761</td>\n",
              "      <td>4.89188</td>\n",
              "      <td>Private room in houseboat</td>\n",
              "      <td>Private room</td>\n",
              "      <td>2</td>\n",
              "      <td>NaN</td>\n",
              "      <td>1.5 baths</td>\n",
              "      <td>1.0</td>\n",
              "      <td>1.0</td>\n",
              "      <td>[\"Carbon monoxide alarm\", \"Private living room...</td>\n",
              "      <td>$135.00</td>\n",
              "      <td>2</td>\n",
              "      <td>730</td>\n",
              "      <td>2.0</td>\n",
              "      <td>2.0</td>\n",
              "      <td>1125.0</td>\n",
              "      <td>1125.0</td>\n",
              "      <td>2.0</td>\n",
              "      <td>1125.0</td>\n",
              "      <td>NaN</td>\n",
              "      <td>t</td>\n",
              "      <td>26</td>\n",
              "      <td>56</td>\n",
              "      <td>84</td>\n",
              "      <td>219</td>\n",
              "      <td>2020-12-13</td>\n",
              "      <td>219</td>\n",
              "      <td>12</td>\n",
              "      <td>0</td>\n",
              "      <td>2012-01-09</td>\n",
              "      <td>2020-07-25</td>\n",
              "      <td>99.0</td>\n",
              "      <td>10.0</td>\n",
              "      <td>10.0</td>\n",
              "      <td>10.0</td>\n",
              "      <td>10.0</td>\n",
              "      <td>10.0</td>\n",
              "      <td>10.0</td>\n",
              "      <td>NaN</td>\n",
              "      <td>t</td>\n",
              "      <td>1</td>\n",
              "      <td>0</td>\n",
              "      <td>1</td>\n",
              "      <td>0</td>\n",
              "      <td>2.01</td>\n",
              "    </tr>\n",
              "    <tr>\n",
              "      <th>4</th>\n",
              "      <td>28871</td>\n",
              "      <td>https://www.airbnb.com/rooms/28871</td>\n",
              "      <td>20201212211823</td>\n",
              "      <td>2020-12-13</td>\n",
              "      <td>Comfortable double room</td>\n",
              "      <td>&lt;b&gt;The space&lt;/b&gt;&lt;br /&gt;In a monumental house ri...</td>\n",
              "      <td>Flower market , Leidseplein , Rembrantsplein</td>\n",
              "      <td>https://a0.muscache.com/pictures/160889/362340...</td>\n",
              "      <td>124245</td>\n",
              "      <td>https://www.airbnb.com/users/show/124245</td>\n",
              "      <td>Edwin</td>\n",
              "      <td>2010-05-13</td>\n",
              "      <td>Amsterdam, Noord-Holland, The Netherlands</td>\n",
              "      <td>Hi</td>\n",
              "      <td>within an hour</td>\n",
              "      <td>100%</td>\n",
              "      <td>92%</td>\n",
              "      <td>t</td>\n",
              "      <td>https://a0.muscache.com/im/pictures/user/9986b...</td>\n",
              "      <td>https://a0.muscache.com/im/pictures/user/9986b...</td>\n",
              "      <td>Amsterdam Centrum</td>\n",
              "      <td>2.0</td>\n",
              "      <td>2.0</td>\n",
              "      <td>['email', 'phone', 'reviews', 'jumio', 'offlin...</td>\n",
              "      <td>t</td>\n",
              "      <td>t</td>\n",
              "      <td>Amsterdam, North Holland, Netherlands</td>\n",
              "      <td>Centrum-Oost</td>\n",
              "      <td>NaN</td>\n",
              "      <td>52.36610</td>\n",
              "      <td>4.88953</td>\n",
              "      <td>Private room in apartment</td>\n",
              "      <td>Private room</td>\n",
              "      <td>2</td>\n",
              "      <td>NaN</td>\n",
              "      <td>1 shared bath</td>\n",
              "      <td>1.0</td>\n",
              "      <td>1.0</td>\n",
              "      <td>[\"Wifi\", \"Hot water\", \"Private entrance\", \"Han...</td>\n",
              "      <td>$75.00</td>\n",
              "      <td>2</td>\n",
              "      <td>1825</td>\n",
              "      <td>2.0</td>\n",
              "      <td>2.0</td>\n",
              "      <td>1825.0</td>\n",
              "      <td>1825.0</td>\n",
              "      <td>2.0</td>\n",
              "      <td>1825.0</td>\n",
              "      <td>NaN</td>\n",
              "      <td>t</td>\n",
              "      <td>28</td>\n",
              "      <td>58</td>\n",
              "      <td>88</td>\n",
              "      <td>346</td>\n",
              "      <td>2020-12-13</td>\n",
              "      <td>336</td>\n",
              "      <td>18</td>\n",
              "      <td>0</td>\n",
              "      <td>2010-08-22</td>\n",
              "      <td>2020-09-20</td>\n",
              "      <td>97.0</td>\n",
              "      <td>10.0</td>\n",
              "      <td>10.0</td>\n",
              "      <td>10.0</td>\n",
              "      <td>10.0</td>\n",
              "      <td>10.0</td>\n",
              "      <td>10.0</td>\n",
              "      <td>NaN</td>\n",
              "      <td>f</td>\n",
              "      <td>2</td>\n",
              "      <td>0</td>\n",
              "      <td>2</td>\n",
              "      <td>0</td>\n",
              "      <td>2.68</td>\n",
              "    </tr>\n",
              "  </tbody>\n",
              "</table>\n",
              "</div>"
            ],
            "text/plain": [
              "      id  ... reviews_per_month\n",
              "0   2818  ...              1.95\n",
              "1  20168  ...              2.58\n",
              "2  25428  ...              0.14\n",
              "3  27886  ...              2.01\n",
              "4  28871  ...              2.68\n",
              "\n",
              "[5 rows x 74 columns]"
            ]
          },
          "metadata": {
            "tags": []
          },
          "execution_count": 6
        },
        {
          "output_type": "stream",
          "text": [
            "time: 2.1 s (started: 2021-06-04 18:48:49 +00:00)\n"
          ],
          "name": "stdout"
        }
      ]
    },
    {
      "cell_type": "markdown",
      "metadata": {
        "id": "Pzc714QhKf3g"
      },
      "source": [
        "## Question 1a"
      ]
    },
    {
      "cell_type": "code",
      "metadata": {
        "id": "8m6wSWKPJPLR",
        "colab": {
          "base_uri": "https://localhost:8080/"
        },
        "outputId": "c360b4a7-5339-4497-f20b-348bdea98a9f"
      },
      "source": [
        "# Do not rename the function, do not remove the return statement.\n",
        "# Just add code before the return statement to add the required functionality.\n",
        "def drop_cols(df):\n",
        "  drop_col=df.drop(['scrape_id','last_scraped','description','listing_url','neighbourhood','calendar_last_scraped', 'amenities','neighborhood_overview', \n",
        "                    'picture_url','host_url', 'host_about', 'host_location','host_total_listings_count','host_thumbnail_url','host_picture_url', \n",
        "                    'host_verifications','bathrooms_text','has_availability','minimum_minimum_nights','maximum_minimum_nights','minimum_maximum_nights',\n",
        "                    'maximum_maximum_nights','minimum_nights_avg_ntm','maximum_nights_avg_ntm','number_of_reviews_l30d','calculated_host_listings_count',\n",
        "                    'calculated_host_listings_count_entire_homes','calculated_host_listings_count_private_rooms',\n",
        "                    'calculated_host_listings_count_shared_rooms'],axis=1,inplace=True)\n",
        "  return df"
      ],
      "execution_count": 7,
      "outputs": [
        {
          "output_type": "stream",
          "text": [
            "time: 4.49 ms (started: 2021-06-04 18:48:51 +00:00)\n"
          ],
          "name": "stdout"
        }
      ]
    },
    {
      "cell_type": "code",
      "metadata": {
        "colab": {
          "base_uri": "https://localhost:8080/"
        },
        "id": "GpBDncpjFrDh",
        "outputId": "96301547-58f2-4b33-bcfa-9b09a0f730a1"
      },
      "source": [
        "df = drop_cols(df)\n",
        "df.columns"
      ],
      "execution_count": 8,
      "outputs": [
        {
          "output_type": "execute_result",
          "data": {
            "text/plain": [
              "Index(['id', 'name', 'host_id', 'host_name', 'host_since',\n",
              "       'host_response_time', 'host_response_rate', 'host_acceptance_rate',\n",
              "       'host_is_superhost', 'host_neighbourhood', 'host_listings_count',\n",
              "       'host_has_profile_pic', 'host_identity_verified',\n",
              "       'neighbourhood_cleansed', 'neighbourhood_group_cleansed', 'latitude',\n",
              "       'longitude', 'property_type', 'room_type', 'accommodates', 'bathrooms',\n",
              "       'bedrooms', 'beds', 'price', 'minimum_nights', 'maximum_nights',\n",
              "       'calendar_updated', 'availability_30', 'availability_60',\n",
              "       'availability_90', 'availability_365', 'number_of_reviews',\n",
              "       'number_of_reviews_ltm', 'first_review', 'last_review',\n",
              "       'review_scores_rating', 'review_scores_accuracy',\n",
              "       'review_scores_cleanliness', 'review_scores_checkin',\n",
              "       'review_scores_communication', 'review_scores_location',\n",
              "       'review_scores_value', 'license', 'instant_bookable',\n",
              "       'reviews_per_month'],\n",
              "      dtype='object')"
            ]
          },
          "metadata": {
            "tags": []
          },
          "execution_count": 8
        },
        {
          "output_type": "stream",
          "text": [
            "time: 18.6 ms (started: 2021-06-04 18:48:51 +00:00)\n"
          ],
          "name": "stdout"
        }
      ]
    },
    {
      "cell_type": "code",
      "metadata": {
        "id": "JgsX31bPJLfc",
        "colab": {
          "base_uri": "https://localhost:8080/"
        },
        "outputId": "50f93d6e-14ad-470a-cc4b-808941df8f14"
      },
      "source": [
        "def drop_cols_na(df, threshold=.50):\n",
        "  df = df.loc[:, df.isnull().mean() < threshold] \n",
        "  return df"
      ],
      "execution_count": 9,
      "outputs": [
        {
          "output_type": "stream",
          "text": [
            "time: 2.35 ms (started: 2021-06-04 18:48:51 +00:00)\n"
          ],
          "name": "stdout"
        }
      ]
    },
    {
      "cell_type": "code",
      "metadata": {
        "id": "y0DPwLXwSDGy",
        "colab": {
          "base_uri": "https://localhost:8080/",
          "height": 530
        },
        "outputId": "40732969-afb0-41a5-da75-5e86c330104f"
      },
      "source": [
        "df = drop_cols_na(df)\n",
        "df.head()"
      ],
      "execution_count": 10,
      "outputs": [
        {
          "output_type": "execute_result",
          "data": {
            "text/html": [
              "<div>\n",
              "<style scoped>\n",
              "    .dataframe tbody tr th:only-of-type {\n",
              "        vertical-align: middle;\n",
              "    }\n",
              "\n",
              "    .dataframe tbody tr th {\n",
              "        vertical-align: top;\n",
              "    }\n",
              "\n",
              "    .dataframe thead th {\n",
              "        text-align: right;\n",
              "    }\n",
              "</style>\n",
              "<table border=\"1\" class=\"dataframe\">\n",
              "  <thead>\n",
              "    <tr style=\"text-align: right;\">\n",
              "      <th></th>\n",
              "      <th>id</th>\n",
              "      <th>name</th>\n",
              "      <th>host_id</th>\n",
              "      <th>host_name</th>\n",
              "      <th>host_since</th>\n",
              "      <th>host_acceptance_rate</th>\n",
              "      <th>host_is_superhost</th>\n",
              "      <th>host_neighbourhood</th>\n",
              "      <th>host_listings_count</th>\n",
              "      <th>host_has_profile_pic</th>\n",
              "      <th>host_identity_verified</th>\n",
              "      <th>neighbourhood_cleansed</th>\n",
              "      <th>latitude</th>\n",
              "      <th>longitude</th>\n",
              "      <th>property_type</th>\n",
              "      <th>room_type</th>\n",
              "      <th>accommodates</th>\n",
              "      <th>bedrooms</th>\n",
              "      <th>beds</th>\n",
              "      <th>price</th>\n",
              "      <th>minimum_nights</th>\n",
              "      <th>maximum_nights</th>\n",
              "      <th>availability_30</th>\n",
              "      <th>availability_60</th>\n",
              "      <th>availability_90</th>\n",
              "      <th>availability_365</th>\n",
              "      <th>number_of_reviews</th>\n",
              "      <th>number_of_reviews_ltm</th>\n",
              "      <th>first_review</th>\n",
              "      <th>last_review</th>\n",
              "      <th>review_scores_rating</th>\n",
              "      <th>review_scores_accuracy</th>\n",
              "      <th>review_scores_cleanliness</th>\n",
              "      <th>review_scores_checkin</th>\n",
              "      <th>review_scores_communication</th>\n",
              "      <th>review_scores_location</th>\n",
              "      <th>review_scores_value</th>\n",
              "      <th>instant_bookable</th>\n",
              "      <th>reviews_per_month</th>\n",
              "    </tr>\n",
              "  </thead>\n",
              "  <tbody>\n",
              "    <tr>\n",
              "      <th>0</th>\n",
              "      <td>2818</td>\n",
              "      <td>Quiet Garden View Room &amp; Super Fast WiFi</td>\n",
              "      <td>3159</td>\n",
              "      <td>Daniel</td>\n",
              "      <td>2008-09-24</td>\n",
              "      <td>100%</td>\n",
              "      <td>t</td>\n",
              "      <td>Indische Buurt</td>\n",
              "      <td>1.0</td>\n",
              "      <td>t</td>\n",
              "      <td>t</td>\n",
              "      <td>Oostelijk Havengebied - Indische Buurt</td>\n",
              "      <td>52.36575</td>\n",
              "      <td>4.94142</td>\n",
              "      <td>Private room in apartment</td>\n",
              "      <td>Private room</td>\n",
              "      <td>2</td>\n",
              "      <td>1.0</td>\n",
              "      <td>2.0</td>\n",
              "      <td>$59.00</td>\n",
              "      <td>3</td>\n",
              "      <td>1125</td>\n",
              "      <td>12</td>\n",
              "      <td>42</td>\n",
              "      <td>62</td>\n",
              "      <td>123</td>\n",
              "      <td>278</td>\n",
              "      <td>1</td>\n",
              "      <td>2009-03-30</td>\n",
              "      <td>2020-02-14</td>\n",
              "      <td>98.0</td>\n",
              "      <td>10.0</td>\n",
              "      <td>10.0</td>\n",
              "      <td>10.0</td>\n",
              "      <td>10.0</td>\n",
              "      <td>9.0</td>\n",
              "      <td>10.0</td>\n",
              "      <td>t</td>\n",
              "      <td>1.95</td>\n",
              "    </tr>\n",
              "    <tr>\n",
              "      <th>1</th>\n",
              "      <td>20168</td>\n",
              "      <td>Studio with private bathroom in the centre 1</td>\n",
              "      <td>59484</td>\n",
              "      <td>Alexander</td>\n",
              "      <td>2009-12-02</td>\n",
              "      <td>100%</td>\n",
              "      <td>f</td>\n",
              "      <td>Grachtengordel</td>\n",
              "      <td>2.0</td>\n",
              "      <td>t</td>\n",
              "      <td>t</td>\n",
              "      <td>Centrum-Oost</td>\n",
              "      <td>52.36509</td>\n",
              "      <td>4.89354</td>\n",
              "      <td>Private room in townhouse</td>\n",
              "      <td>Private room</td>\n",
              "      <td>2</td>\n",
              "      <td>1.0</td>\n",
              "      <td>1.0</td>\n",
              "      <td>$236.00</td>\n",
              "      <td>1</td>\n",
              "      <td>365</td>\n",
              "      <td>3</td>\n",
              "      <td>3</td>\n",
              "      <td>3</td>\n",
              "      <td>3</td>\n",
              "      <td>339</td>\n",
              "      <td>31</td>\n",
              "      <td>2010-03-02</td>\n",
              "      <td>2020-04-09</td>\n",
              "      <td>89.0</td>\n",
              "      <td>10.0</td>\n",
              "      <td>10.0</td>\n",
              "      <td>10.0</td>\n",
              "      <td>10.0</td>\n",
              "      <td>10.0</td>\n",
              "      <td>9.0</td>\n",
              "      <td>t</td>\n",
              "      <td>2.58</td>\n",
              "    </tr>\n",
              "    <tr>\n",
              "      <th>2</th>\n",
              "      <td>25428</td>\n",
              "      <td>Lovely apt in City Centre (w.lift) near Jordaan</td>\n",
              "      <td>56142</td>\n",
              "      <td>Joan</td>\n",
              "      <td>2009-11-20</td>\n",
              "      <td>57%</td>\n",
              "      <td>t</td>\n",
              "      <td>Grachtengordel</td>\n",
              "      <td>2.0</td>\n",
              "      <td>t</td>\n",
              "      <td>f</td>\n",
              "      <td>Centrum-West</td>\n",
              "      <td>52.37297</td>\n",
              "      <td>4.88339</td>\n",
              "      <td>Entire apartment</td>\n",
              "      <td>Entire home/apt</td>\n",
              "      <td>3</td>\n",
              "      <td>1.0</td>\n",
              "      <td>1.0</td>\n",
              "      <td>$125.00</td>\n",
              "      <td>14</td>\n",
              "      <td>180</td>\n",
              "      <td>7</td>\n",
              "      <td>7</td>\n",
              "      <td>7</td>\n",
              "      <td>33</td>\n",
              "      <td>5</td>\n",
              "      <td>2</td>\n",
              "      <td>2018-01-21</td>\n",
              "      <td>2020-02-09</td>\n",
              "      <td>100.0</td>\n",
              "      <td>10.0</td>\n",
              "      <td>10.0</td>\n",
              "      <td>10.0</td>\n",
              "      <td>10.0</td>\n",
              "      <td>10.0</td>\n",
              "      <td>10.0</td>\n",
              "      <td>f</td>\n",
              "      <td>0.14</td>\n",
              "    </tr>\n",
              "    <tr>\n",
              "      <th>3</th>\n",
              "      <td>27886</td>\n",
              "      <td>Romantic, stylish B&amp;B houseboat in canal district</td>\n",
              "      <td>97647</td>\n",
              "      <td>Flip</td>\n",
              "      <td>2010-03-23</td>\n",
              "      <td>100%</td>\n",
              "      <td>t</td>\n",
              "      <td>Westelijke Eilanden</td>\n",
              "      <td>1.0</td>\n",
              "      <td>t</td>\n",
              "      <td>t</td>\n",
              "      <td>Centrum-West</td>\n",
              "      <td>52.38761</td>\n",
              "      <td>4.89188</td>\n",
              "      <td>Private room in houseboat</td>\n",
              "      <td>Private room</td>\n",
              "      <td>2</td>\n",
              "      <td>1.0</td>\n",
              "      <td>1.0</td>\n",
              "      <td>$135.00</td>\n",
              "      <td>2</td>\n",
              "      <td>730</td>\n",
              "      <td>26</td>\n",
              "      <td>56</td>\n",
              "      <td>84</td>\n",
              "      <td>219</td>\n",
              "      <td>219</td>\n",
              "      <td>12</td>\n",
              "      <td>2012-01-09</td>\n",
              "      <td>2020-07-25</td>\n",
              "      <td>99.0</td>\n",
              "      <td>10.0</td>\n",
              "      <td>10.0</td>\n",
              "      <td>10.0</td>\n",
              "      <td>10.0</td>\n",
              "      <td>10.0</td>\n",
              "      <td>10.0</td>\n",
              "      <td>t</td>\n",
              "      <td>2.01</td>\n",
              "    </tr>\n",
              "    <tr>\n",
              "      <th>4</th>\n",
              "      <td>28871</td>\n",
              "      <td>Comfortable double room</td>\n",
              "      <td>124245</td>\n",
              "      <td>Edwin</td>\n",
              "      <td>2010-05-13</td>\n",
              "      <td>92%</td>\n",
              "      <td>t</td>\n",
              "      <td>Amsterdam Centrum</td>\n",
              "      <td>2.0</td>\n",
              "      <td>t</td>\n",
              "      <td>t</td>\n",
              "      <td>Centrum-Oost</td>\n",
              "      <td>52.36610</td>\n",
              "      <td>4.88953</td>\n",
              "      <td>Private room in apartment</td>\n",
              "      <td>Private room</td>\n",
              "      <td>2</td>\n",
              "      <td>1.0</td>\n",
              "      <td>1.0</td>\n",
              "      <td>$75.00</td>\n",
              "      <td>2</td>\n",
              "      <td>1825</td>\n",
              "      <td>28</td>\n",
              "      <td>58</td>\n",
              "      <td>88</td>\n",
              "      <td>346</td>\n",
              "      <td>336</td>\n",
              "      <td>18</td>\n",
              "      <td>2010-08-22</td>\n",
              "      <td>2020-09-20</td>\n",
              "      <td>97.0</td>\n",
              "      <td>10.0</td>\n",
              "      <td>10.0</td>\n",
              "      <td>10.0</td>\n",
              "      <td>10.0</td>\n",
              "      <td>10.0</td>\n",
              "      <td>10.0</td>\n",
              "      <td>f</td>\n",
              "      <td>2.68</td>\n",
              "    </tr>\n",
              "  </tbody>\n",
              "</table>\n",
              "</div>"
            ],
            "text/plain": [
              "      id  ... reviews_per_month\n",
              "0   2818  ...              1.95\n",
              "1  20168  ...              2.58\n",
              "2  25428  ...              0.14\n",
              "3  27886  ...              2.01\n",
              "4  28871  ...              2.68\n",
              "\n",
              "[5 rows x 39 columns]"
            ]
          },
          "metadata": {
            "tags": []
          },
          "execution_count": 10
        },
        {
          "output_type": "stream",
          "text": [
            "time: 113 ms (started: 2021-06-04 18:48:51 +00:00)\n"
          ],
          "name": "stdout"
        }
      ]
    },
    {
      "cell_type": "markdown",
      "metadata": {
        "id": "y6SMYnVDKt1d"
      },
      "source": [
        "## Question 1b"
      ]
    },
    {
      "cell_type": "code",
      "metadata": {
        "id": "lcw2iovWK-EN",
        "colab": {
          "base_uri": "https://localhost:8080/"
        },
        "outputId": "3bb0e3ae-f6b1-4335-d1a3-651999c94dd9"
      },
      "source": [
        "def binary_encoding(df):\n",
        "  '''This function convert the values are encoded as the strings ‘t’ (for True) and ‘f’ (for False).\n",
        "   Recode these columns by turning them into the integer numbers 1 and 0.\n",
        "  '''\n",
        "  df.replace({'t': 1,'f': 0},inplace=True)\n",
        "  return df"
      ],
      "execution_count": 11,
      "outputs": [
        {
          "output_type": "stream",
          "text": [
            "time: 8.3 ms (started: 2021-06-04 18:48:51 +00:00)\n"
          ],
          "name": "stdout"
        }
      ]
    },
    {
      "cell_type": "code",
      "metadata": {
        "id": "aZ7BoRBhlbYV",
        "colab": {
          "base_uri": "https://localhost:8080/"
        },
        "outputId": "77949fae-748d-4d5b-f240-f81580705fb5"
      },
      "source": [
        "df = binary_encoding(df)"
      ],
      "execution_count": 12,
      "outputs": [
        {
          "output_type": "stream",
          "text": [
            "time: 131 ms (started: 2021-06-04 18:48:51 +00:00)\n"
          ],
          "name": "stdout"
        }
      ]
    },
    {
      "cell_type": "code",
      "metadata": {
        "id": "nKc_EqKdLDdV",
        "colab": {
          "base_uri": "https://localhost:8080/"
        },
        "outputId": "8ad0a3df-cad1-4c8b-bd8a-bdc4c942878b"
      },
      "source": [
        "# hint: check Pandas to_datetime method\n",
        "def add_host_days(df):\n",
        "  '''\n",
        "  '''\n",
        "  df[\"host_days\"]=pd.datetime.now().strftime(\"%Y/%m/%d\")\n",
        "  df[\"host_days\"]=pd.to_datetime(df[\"host_days\"])-pd.to_datetime(df[\"host_since\"])\n",
        "  df['host_days'] = df['host_days'].fillna(pd.Timedelta(seconds=0))\n",
        "  df['host_days'] = df[\"host_days\"].astype('timedelta64[D]').astype(int)\n",
        "  return df"
      ],
      "execution_count": 13,
      "outputs": [
        {
          "output_type": "stream",
          "text": [
            "time: 5.72 ms (started: 2021-06-04 18:48:51 +00:00)\n"
          ],
          "name": "stdout"
        }
      ]
    },
    {
      "cell_type": "code",
      "metadata": {
        "id": "1KNvK2SKLEcW",
        "colab": {
          "base_uri": "https://localhost:8080/"
        },
        "outputId": "dead23ae-1bd7-4f33-8891-ea1f7ebcfbb1"
      },
      "source": [
        "def convert_price(df):\n",
        "  list_1=[]\n",
        "  list_2=[]\n",
        "  list_3=list(df[\"price\"])\n",
        "  for i in list_3:\n",
        "    x=i.replace(\"$\",\"\")\n",
        "    list_1.append(x)\n",
        "  for i in list_1:\n",
        "    t=i.replace(',',\"\")\n",
        "    y=float(t)\n",
        "    list_2.append(y)\n",
        "  df['price']=list_2\n",
        "\n",
        "  return df"
      ],
      "execution_count": 14,
      "outputs": [
        {
          "output_type": "stream",
          "text": [
            "time: 7.81 ms (started: 2021-06-04 18:48:51 +00:00)\n"
          ],
          "name": "stdout"
        }
      ]
    },
    {
      "cell_type": "code",
      "metadata": {
        "id": "MTGf_mt2iwwG",
        "colab": {
          "base_uri": "https://localhost:8080/"
        },
        "outputId": "cb26a696-5777-404c-9d31-af93b3941393"
      },
      "source": [
        "df = add_host_days(df)\n",
        "df = convert_price(df)"
      ],
      "execution_count": 15,
      "outputs": [
        {
          "output_type": "stream",
          "text": [
            "time: 41.3 ms (started: 2021-06-04 18:48:51 +00:00)\n"
          ],
          "name": "stdout"
        },
        {
          "output_type": "stream",
          "text": [
            "/usr/local/lib/python3.7/dist-packages/ipykernel_launcher.py:5: FutureWarning: The pandas.datetime class is deprecated and will be removed from pandas in a future version. Import from datetime module instead.\n",
            "  \"\"\"\n"
          ],
          "name": "stderr"
        }
      ]
    },
    {
      "cell_type": "code",
      "metadata": {
        "colab": {
          "base_uri": "https://localhost:8080/",
          "height": 530
        },
        "id": "LdXqfj4BANFr",
        "outputId": "587a397c-5e2c-4be0-9133-aefb7ae97378"
      },
      "source": [
        "df.head()"
      ],
      "execution_count": 16,
      "outputs": [
        {
          "output_type": "execute_result",
          "data": {
            "text/html": [
              "<div>\n",
              "<style scoped>\n",
              "    .dataframe tbody tr th:only-of-type {\n",
              "        vertical-align: middle;\n",
              "    }\n",
              "\n",
              "    .dataframe tbody tr th {\n",
              "        vertical-align: top;\n",
              "    }\n",
              "\n",
              "    .dataframe thead th {\n",
              "        text-align: right;\n",
              "    }\n",
              "</style>\n",
              "<table border=\"1\" class=\"dataframe\">\n",
              "  <thead>\n",
              "    <tr style=\"text-align: right;\">\n",
              "      <th></th>\n",
              "      <th>id</th>\n",
              "      <th>name</th>\n",
              "      <th>host_id</th>\n",
              "      <th>host_name</th>\n",
              "      <th>host_since</th>\n",
              "      <th>host_acceptance_rate</th>\n",
              "      <th>host_is_superhost</th>\n",
              "      <th>host_neighbourhood</th>\n",
              "      <th>host_listings_count</th>\n",
              "      <th>host_has_profile_pic</th>\n",
              "      <th>host_identity_verified</th>\n",
              "      <th>neighbourhood_cleansed</th>\n",
              "      <th>latitude</th>\n",
              "      <th>longitude</th>\n",
              "      <th>property_type</th>\n",
              "      <th>room_type</th>\n",
              "      <th>accommodates</th>\n",
              "      <th>bedrooms</th>\n",
              "      <th>beds</th>\n",
              "      <th>price</th>\n",
              "      <th>minimum_nights</th>\n",
              "      <th>maximum_nights</th>\n",
              "      <th>availability_30</th>\n",
              "      <th>availability_60</th>\n",
              "      <th>availability_90</th>\n",
              "      <th>availability_365</th>\n",
              "      <th>number_of_reviews</th>\n",
              "      <th>number_of_reviews_ltm</th>\n",
              "      <th>first_review</th>\n",
              "      <th>last_review</th>\n",
              "      <th>review_scores_rating</th>\n",
              "      <th>review_scores_accuracy</th>\n",
              "      <th>review_scores_cleanliness</th>\n",
              "      <th>review_scores_checkin</th>\n",
              "      <th>review_scores_communication</th>\n",
              "      <th>review_scores_location</th>\n",
              "      <th>review_scores_value</th>\n",
              "      <th>instant_bookable</th>\n",
              "      <th>reviews_per_month</th>\n",
              "      <th>host_days</th>\n",
              "    </tr>\n",
              "  </thead>\n",
              "  <tbody>\n",
              "    <tr>\n",
              "      <th>0</th>\n",
              "      <td>2818</td>\n",
              "      <td>Quiet Garden View Room &amp; Super Fast WiFi</td>\n",
              "      <td>3159</td>\n",
              "      <td>Daniel</td>\n",
              "      <td>2008-09-24</td>\n",
              "      <td>100%</td>\n",
              "      <td>1.0</td>\n",
              "      <td>Indische Buurt</td>\n",
              "      <td>1.0</td>\n",
              "      <td>1.0</td>\n",
              "      <td>1.0</td>\n",
              "      <td>Oostelijk Havengebied - Indische Buurt</td>\n",
              "      <td>52.36575</td>\n",
              "      <td>4.94142</td>\n",
              "      <td>Private room in apartment</td>\n",
              "      <td>Private room</td>\n",
              "      <td>2</td>\n",
              "      <td>1.0</td>\n",
              "      <td>2.0</td>\n",
              "      <td>59.0</td>\n",
              "      <td>3</td>\n",
              "      <td>1125</td>\n",
              "      <td>12</td>\n",
              "      <td>42</td>\n",
              "      <td>62</td>\n",
              "      <td>123</td>\n",
              "      <td>278</td>\n",
              "      <td>1</td>\n",
              "      <td>2009-03-30</td>\n",
              "      <td>2020-02-14</td>\n",
              "      <td>98.0</td>\n",
              "      <td>10.0</td>\n",
              "      <td>10.0</td>\n",
              "      <td>10.0</td>\n",
              "      <td>10.0</td>\n",
              "      <td>9.0</td>\n",
              "      <td>10.0</td>\n",
              "      <td>1</td>\n",
              "      <td>1.95</td>\n",
              "      <td>4636</td>\n",
              "    </tr>\n",
              "    <tr>\n",
              "      <th>1</th>\n",
              "      <td>20168</td>\n",
              "      <td>Studio with private bathroom in the centre 1</td>\n",
              "      <td>59484</td>\n",
              "      <td>Alexander</td>\n",
              "      <td>2009-12-02</td>\n",
              "      <td>100%</td>\n",
              "      <td>0.0</td>\n",
              "      <td>Grachtengordel</td>\n",
              "      <td>2.0</td>\n",
              "      <td>1.0</td>\n",
              "      <td>1.0</td>\n",
              "      <td>Centrum-Oost</td>\n",
              "      <td>52.36509</td>\n",
              "      <td>4.89354</td>\n",
              "      <td>Private room in townhouse</td>\n",
              "      <td>Private room</td>\n",
              "      <td>2</td>\n",
              "      <td>1.0</td>\n",
              "      <td>1.0</td>\n",
              "      <td>236.0</td>\n",
              "      <td>1</td>\n",
              "      <td>365</td>\n",
              "      <td>3</td>\n",
              "      <td>3</td>\n",
              "      <td>3</td>\n",
              "      <td>3</td>\n",
              "      <td>339</td>\n",
              "      <td>31</td>\n",
              "      <td>2010-03-02</td>\n",
              "      <td>2020-04-09</td>\n",
              "      <td>89.0</td>\n",
              "      <td>10.0</td>\n",
              "      <td>10.0</td>\n",
              "      <td>10.0</td>\n",
              "      <td>10.0</td>\n",
              "      <td>10.0</td>\n",
              "      <td>9.0</td>\n",
              "      <td>1</td>\n",
              "      <td>2.58</td>\n",
              "      <td>4202</td>\n",
              "    </tr>\n",
              "    <tr>\n",
              "      <th>2</th>\n",
              "      <td>25428</td>\n",
              "      <td>Lovely apt in City Centre (w.lift) near Jordaan</td>\n",
              "      <td>56142</td>\n",
              "      <td>Joan</td>\n",
              "      <td>2009-11-20</td>\n",
              "      <td>57%</td>\n",
              "      <td>1.0</td>\n",
              "      <td>Grachtengordel</td>\n",
              "      <td>2.0</td>\n",
              "      <td>1.0</td>\n",
              "      <td>0.0</td>\n",
              "      <td>Centrum-West</td>\n",
              "      <td>52.37297</td>\n",
              "      <td>4.88339</td>\n",
              "      <td>Entire apartment</td>\n",
              "      <td>Entire home/apt</td>\n",
              "      <td>3</td>\n",
              "      <td>1.0</td>\n",
              "      <td>1.0</td>\n",
              "      <td>125.0</td>\n",
              "      <td>14</td>\n",
              "      <td>180</td>\n",
              "      <td>7</td>\n",
              "      <td>7</td>\n",
              "      <td>7</td>\n",
              "      <td>33</td>\n",
              "      <td>5</td>\n",
              "      <td>2</td>\n",
              "      <td>2018-01-21</td>\n",
              "      <td>2020-02-09</td>\n",
              "      <td>100.0</td>\n",
              "      <td>10.0</td>\n",
              "      <td>10.0</td>\n",
              "      <td>10.0</td>\n",
              "      <td>10.0</td>\n",
              "      <td>10.0</td>\n",
              "      <td>10.0</td>\n",
              "      <td>0</td>\n",
              "      <td>0.14</td>\n",
              "      <td>4214</td>\n",
              "    </tr>\n",
              "    <tr>\n",
              "      <th>3</th>\n",
              "      <td>27886</td>\n",
              "      <td>Romantic, stylish B&amp;B houseboat in canal district</td>\n",
              "      <td>97647</td>\n",
              "      <td>Flip</td>\n",
              "      <td>2010-03-23</td>\n",
              "      <td>100%</td>\n",
              "      <td>1.0</td>\n",
              "      <td>Westelijke Eilanden</td>\n",
              "      <td>1.0</td>\n",
              "      <td>1.0</td>\n",
              "      <td>1.0</td>\n",
              "      <td>Centrum-West</td>\n",
              "      <td>52.38761</td>\n",
              "      <td>4.89188</td>\n",
              "      <td>Private room in houseboat</td>\n",
              "      <td>Private room</td>\n",
              "      <td>2</td>\n",
              "      <td>1.0</td>\n",
              "      <td>1.0</td>\n",
              "      <td>135.0</td>\n",
              "      <td>2</td>\n",
              "      <td>730</td>\n",
              "      <td>26</td>\n",
              "      <td>56</td>\n",
              "      <td>84</td>\n",
              "      <td>219</td>\n",
              "      <td>219</td>\n",
              "      <td>12</td>\n",
              "      <td>2012-01-09</td>\n",
              "      <td>2020-07-25</td>\n",
              "      <td>99.0</td>\n",
              "      <td>10.0</td>\n",
              "      <td>10.0</td>\n",
              "      <td>10.0</td>\n",
              "      <td>10.0</td>\n",
              "      <td>10.0</td>\n",
              "      <td>10.0</td>\n",
              "      <td>1</td>\n",
              "      <td>2.01</td>\n",
              "      <td>4091</td>\n",
              "    </tr>\n",
              "    <tr>\n",
              "      <th>4</th>\n",
              "      <td>28871</td>\n",
              "      <td>Comfortable double room</td>\n",
              "      <td>124245</td>\n",
              "      <td>Edwin</td>\n",
              "      <td>2010-05-13</td>\n",
              "      <td>92%</td>\n",
              "      <td>1.0</td>\n",
              "      <td>Amsterdam Centrum</td>\n",
              "      <td>2.0</td>\n",
              "      <td>1.0</td>\n",
              "      <td>1.0</td>\n",
              "      <td>Centrum-Oost</td>\n",
              "      <td>52.36610</td>\n",
              "      <td>4.88953</td>\n",
              "      <td>Private room in apartment</td>\n",
              "      <td>Private room</td>\n",
              "      <td>2</td>\n",
              "      <td>1.0</td>\n",
              "      <td>1.0</td>\n",
              "      <td>75.0</td>\n",
              "      <td>2</td>\n",
              "      <td>1825</td>\n",
              "      <td>28</td>\n",
              "      <td>58</td>\n",
              "      <td>88</td>\n",
              "      <td>346</td>\n",
              "      <td>336</td>\n",
              "      <td>18</td>\n",
              "      <td>2010-08-22</td>\n",
              "      <td>2020-09-20</td>\n",
              "      <td>97.0</td>\n",
              "      <td>10.0</td>\n",
              "      <td>10.0</td>\n",
              "      <td>10.0</td>\n",
              "      <td>10.0</td>\n",
              "      <td>10.0</td>\n",
              "      <td>10.0</td>\n",
              "      <td>0</td>\n",
              "      <td>2.68</td>\n",
              "      <td>4040</td>\n",
              "    </tr>\n",
              "  </tbody>\n",
              "</table>\n",
              "</div>"
            ],
            "text/plain": [
              "      id  ... host_days\n",
              "0   2818  ...      4636\n",
              "1  20168  ...      4202\n",
              "2  25428  ...      4214\n",
              "3  27886  ...      4091\n",
              "4  28871  ...      4040\n",
              "\n",
              "[5 rows x 40 columns]"
            ]
          },
          "metadata": {
            "tags": []
          },
          "execution_count": 16
        },
        {
          "output_type": "stream",
          "text": [
            "time: 73.8 ms (started: 2021-06-04 18:48:51 +00:00)\n"
          ],
          "name": "stdout"
        }
      ]
    },
    {
      "cell_type": "markdown",
      "metadata": {
        "id": "F1T-93iSQoXO"
      },
      "source": [
        "## Question 1c: Answering questions.\n",
        "\n",
        "You do not need to write the answer. In each cell, provide the Pandas code that outputs the result. Each answer can be given with 1-2 lines of Python code. Example question and answer:\n",
        "\n",
        "```python\n",
        "# What is the total number of rows in the dataframe?\n",
        "df.shape[0]\n",
        "```\n",
        "\n",
        "Now over to you:"
      ]
    },
    {
      "cell_type": "code",
      "metadata": {
        "colab": {
          "base_uri": "https://localhost:8080/"
        },
        "id": "gM3BRpVlni7z",
        "outputId": "192482f7-eace-42e4-f8c5-479c6e620a0d"
      },
      "source": [
        "# How many hosts offer 2 or more properties for rent?\n",
        "count=0\n",
        "for i in list(df[\"accommodates\"]):\n",
        "  if i >1:\n",
        "    count+=1\n",
        "count"
      ],
      "execution_count": 17,
      "outputs": [
        {
          "output_type": "execute_result",
          "data": {
            "text/plain": [
              "18002"
            ]
          },
          "metadata": {
            "tags": []
          },
          "execution_count": 17
        },
        {
          "output_type": "stream",
          "text": [
            "time: 16.3 ms (started: 2021-06-04 18:48:52 +00:00)\n"
          ],
          "name": "stdout"
        }
      ]
    },
    {
      "cell_type": "code",
      "metadata": {
        "colab": {
          "base_uri": "https://localhost:8080/"
        },
        "id": "angGfYJxpOJ5",
        "outputId": "b569e7fe-21d8-4435-b4a6-5d09a68b02be"
      },
      "source": [
        "# What is the highest price for a listing?\n",
        "df['price'].max()"
      ],
      "execution_count": 18,
      "outputs": [
        {
          "output_type": "execute_result",
          "data": {
            "text/plain": [
              "8000.0"
            ]
          },
          "metadata": {
            "tags": []
          },
          "execution_count": 18
        },
        {
          "output_type": "stream",
          "text": [
            "time: 4.72 ms (started: 2021-06-04 18:48:52 +00:00)\n"
          ],
          "name": "stdout"
        }
      ]
    },
    {
      "cell_type": "code",
      "metadata": {
        "colab": {
          "base_uri": "https://localhost:8080/"
        },
        "id": "WRiPS2fypnz3",
        "outputId": "64a0998d-7d50-42eb-f13f-0c34d2a75a5a"
      },
      "source": [
        "# What is the ID of the listing that has the largest number of bedrooms?\n",
        "df.iloc[df['bedrooms'].idxmax(),0]"
      ],
      "execution_count": 19,
      "outputs": [
        {
          "output_type": "execute_result",
          "data": {
            "text/plain": [
              "46015289"
            ]
          },
          "metadata": {
            "tags": []
          },
          "execution_count": 19
        },
        {
          "output_type": "stream",
          "text": [
            "time: 6.72 ms (started: 2021-06-04 18:48:52 +00:00)\n"
          ],
          "name": "stdout"
        }
      ]
    },
    {
      "cell_type": "code",
      "metadata": {
        "colab": {
          "base_uri": "https://localhost:8080/"
        },
        "id": "eu1cSceDnsM4",
        "outputId": "985c6806-4fbb-40ed-e405-dc8b411a36ed"
      },
      "source": [
        "# What is the ID of the listing with the largest advertised price\n",
        "df.iloc[df['price'].idxmax(),0]"
      ],
      "execution_count": 20,
      "outputs": [
        {
          "output_type": "execute_result",
          "data": {
            "text/plain": [
              "258273"
            ]
          },
          "metadata": {
            "tags": []
          },
          "execution_count": 20
        },
        {
          "output_type": "stream",
          "text": [
            "time: 10.8 ms (started: 2021-06-04 18:48:52 +00:00)\n"
          ],
          "name": "stdout"
        }
      ]
    },
    {
      "cell_type": "code",
      "metadata": {
        "colab": {
          "base_uri": "https://localhost:8080/"
        },
        "id": "ZhzBksbCumZB",
        "outputId": "137d4cc1-04ab-4adb-8727-171986d283d2"
      },
      "source": [
        "# There are different room types. How many listings are there for the most common room type?\n",
        "df.room_type.value_counts()[0]"
      ],
      "execution_count": 21,
      "outputs": [
        {
          "output_type": "execute_result",
          "data": {
            "text/plain": [
              "14433"
            ]
          },
          "metadata": {
            "tags": []
          },
          "execution_count": 21
        },
        {
          "output_type": "stream",
          "text": [
            "time: 12.3 ms (started: 2021-06-04 18:48:52 +00:00)\n"
          ],
          "name": "stdout"
        }
      ]
    },
    {
      "cell_type": "code",
      "metadata": {
        "colab": {
          "base_uri": "https://localhost:8080/"
        },
        "id": "clsRn8tEVw4a",
        "outputId": "6ca587fd-4e80-4d5c-d74f-3158f668075a"
      },
      "source": [
        "# How many hosts are there that have been registered for more than 3000 days?\n",
        "host=df[df.host_days>3000]\n",
        "host.host_days.count()"
      ],
      "execution_count": 22,
      "outputs": [
        {
          "output_type": "execute_result",
          "data": {
            "text/plain": [
              "2799"
            ]
          },
          "metadata": {
            "tags": []
          },
          "execution_count": 22
        },
        {
          "output_type": "stream",
          "text": [
            "time: 16.2 ms (started: 2021-06-04 18:48:52 +00:00)\n"
          ],
          "name": "stdout"
        }
      ]
    },
    {
      "cell_type": "markdown",
      "metadata": {
        "id": "_a4I7y_FsVI0"
      },
      "source": [
        "## Question 1d: Exploratory analyses"
      ]
    },
    {
      "cell_type": "markdown",
      "metadata": {
        "id": "IcA5tI8ftsFS"
      },
      "source": [
        "Produce a barplot of the average nightly price per neighbourhood as instructed in the Coursework proforma:"
      ]
    },
    {
      "cell_type": "code",
      "metadata": {
        "colab": {
          "base_uri": "https://localhost:8080/",
          "height": 649
        },
        "id": "mJ_I6hwm4cO9",
        "outputId": "381738a6-66b3-4c3c-c9a6-f45f358d6a0b"
      },
      "source": [
        "sns.set_style(\"whitegrid\")\n",
        "plt.figure(figsize=(15,10))\n",
        "ax = sns.barplot(data = df,y=\"neighbourhood_cleansed\", x=\"price\", estimator=np.mean)\n",
        "ax.set_title('Neighbour Vs Avg Price', fontdict={'fontsize': 20, 'fontweight': 'medium'})\n",
        "ax.set_ylabel(\"neighbour\", fontsize=15)\n",
        "ax.set_xlabel(\"Avg price\", fontsize=15)\n",
        "plt.show();"
      ],
      "execution_count": 23,
      "outputs": [
        {
          "output_type": "display_data",
          "data": {
            "image/png": "[encoded data removed]",
            "text/plain": [
              "<Figure size 1080x720 with 1 Axes>"
            ]
          },
          "metadata": {
            "tags": []
          }
        },
        {
          "output_type": "stream",
          "text": [
            "time: 1.26 s (started: 2021-06-04 18:48:52 +00:00)\n"
          ],
          "name": "stdout"
        }
      ]
    },
    {
      "cell_type": "code",
      "metadata": {
        "id": "psZPbywKFV27",
        "colab": {
          "base_uri": "https://localhost:8080/",
          "height": 532
        },
        "outputId": "b60b53af-9667-4251-b471-e85653875019"
      },
      "source": [
        "# your code...\n",
        "plt.figure(figsize=(8,8))\n",
        "ax = sns.barplot(x='price', y=\"neighbourhood_cleansed\", data=df,estimator=np.mean)\n",
        "ax.set_title('Average Nightly Price per Neighbourhood', fontdict={'fontsize': 15, 'fontweight': 'medium'})\n",
        "plt.show()"
      ],
      "execution_count": 24,
      "outputs": [
        {
          "output_type": "display_data",
          "data": {
            "image/png": "[encoded data removed]",
            "text/plain": [
              "<Figure size 576x576 with 1 Axes>"
            ]
          },
          "metadata": {
            "tags": []
          }
        },
        {
          "output_type": "stream",
          "text": [
            "time: 1.14 s (started: 2021-06-04 18:48:53 +00:00)\n"
          ],
          "name": "stdout"
        }
      ]
    },
    {
      "cell_type": "markdown",
      "metadata": {
        "id": "834GVr84yfAA"
      },
      "source": [
        "Plot a correlation matrix as instructed in the Coursework proforma:"
      ]
    },
    {
      "cell_type": "code",
      "metadata": {
        "id": "fvS5_JdIFQbG",
        "colab": {
          "base_uri": "https://localhost:8080/",
          "height": 445
        },
        "outputId": "95ccf5f0-d364-4584-ce49-e5fbfb30bd20"
      },
      "source": [
        "\n",
        "data=df[['review_scores_cleanliness','review_scores_checkin','review_scores_communication','review_scores_location','review_scores_value']]\n",
        "sns.heatmap(data.corr(),cmap='viridis',annot=True)"
      ],
      "execution_count": 25,
      "outputs": [
        {
          "output_type": "execute_result",
          "data": {
            "text/plain": [
              "<matplotlib.axes._subplots.AxesSubplot at 0x7f185c0cafd0>"
            ]
          },
          "metadata": {
            "tags": []
          },
          "execution_count": 25
        },
        {
          "output_type": "display_data",
          "data": {
            "image/png": "[encoded data removed]",
            "text/plain": [
              "<Figure size 432x288 with 2 Axes>"
            ]
          },
          "metadata": {
            "tags": []
          }
        },
        {
          "output_type": "stream",
          "text": [
            "time: 411 ms (started: 2021-06-04 18:48:54 +00:00)\n"
          ],
          "name": "stdout"
        }
      ]
    },
    {
      "cell_type": "markdown",
      "metadata": {
        "id": "gurIa2hkeZL1"
      },
      "source": [
        "Plot a geographical distribution as instructed in the Coursework proforma:"
      ]
    },
    {
      "cell_type": "code",
      "metadata": {
        "id": "qbTja8fwFScc",
        "colab": {
          "base_uri": "https://localhost:8080/",
          "height": 651
        },
        "outputId": "f59394c8-035f-42a1-abe1-d5aeefd3b8c5"
      },
      "source": [
        "df_price = df[df['price']>150]\n",
        "sns.set_theme(style=\"white\")\n",
        "plt.figure(figsize=(15,10))\n",
        "ax = sns.scatterplot(\n",
        " data=df_price, y='latitude', x='longitude', hue=\"price\", size=\"price\",\n",
        " sizes=(20, 200))\n",
        "ax.set_title(\"Prices as per locations\", fontdict={'fontsize': 20, 'fontweight': 'medium'})\n",
        "ax.set_ylabel(\"Latitude\", fontsize=15)\n",
        "ax.set_xlabel(\"Longitude\", fontsize=15)\n",
        "plt.show();\n"
      ],
      "execution_count": 26,
      "outputs": [
        {
          "output_type": "display_data",
          "data": {
            "image/png": "[encoded data removed]",
            "text/plain": [
              "<Figure size 1080x720 with 1 Axes>"
            ]
          },
          "metadata": {
            "tags": []
          }
        },
        {
          "output_type": "stream",
          "text": [
            "time: 605 ms (started: 2021-06-04 18:48:55 +00:00)\n"
          ],
          "name": "stdout"
        }
      ]
    },
    {
      "cell_type": "markdown",
      "metadata": {
        "id": "0dLbkYk6y9eF"
      },
      "source": [
        "---\n",
        "\n",
        "# Part 2: Statistical analysis and recommender system\n",
        "## CMT 309 Data Science Portfolio\n",
        "\n",
        "Instructions:\n",
        "\n",
        "- Answer the questions by filling in the appropriate sections. \n",
        "- Do not remove or rename section headings or any code that has been provided, unless instructed otherwise.\n",
        "- You can add as many additional cells with code as you like.\n",
        "- Sometimes you are asked to provide an answer or justification. To this end, double-click on the text cells and add your answer/explanation following the text \"YOUR ANSWER:\".\n",
        "\n",
        "Before submitting,\n",
        "\n",
        "- Ensure that the code is clean, readable, and well documented. \n",
        "- Restart the kernel (to wipe all variables) and then run the code from top to bottom to produce all intermediate outputs. "
      ]
    },
    {
      "cell_type": "markdown",
      "metadata": {
        "id": "jtpZraSiE00A"
      },
      "source": [
        "## Question 2a: Linear regression and t-tests\n"
      ]
    },
    {
      "cell_type": "code",
      "metadata": {
        "id": "RDCTzGiooPDJ",
        "colab": {
          "base_uri": "https://localhost:8080/"
        },
        "outputId": "446c4d0c-4955-4873-8f38-37dbc4d64de0"
      },
      "source": [
        "# your linear regression code...\n",
        "\n",
        "# deal with nan values replacing with MEAN\n",
        "Column_list=df[[\"review_scores_accuracy\",\"review_scores_cleanliness\",\"review_scores_checkin\",\"review_scores_communication\",\"review_scores_location\",\"review_scores_value\",\"review_scores_rating\"]]\n",
        "\n",
        "# df_pred\n",
        "for col in Column_list:\n",
        "  Mean= int (Column_list[col].mean()) # calculate mean each column wise.\n",
        "  Column_list[col].fillna((Mean), inplace=True)\n",
        "Linear_Regression=Column_list\n",
        "Linear_Regression.columns=[\"accuracy\",\"cleanliness\",\"checkin\",\"communication\",\"location\",\"value\",\"rating\"]\n",
        " \n",
        "fit=sm.OLS.from_formula(\"rating~accuracy+cleanliness+checkin+communication+location+value\",Linear_Regression).fit()\n",
        "print(fit.summary())"
      ],
      "execution_count": 27,
      "outputs": [
        {
          "output_type": "stream",
          "text": [
            "                            OLS Regression Results                            \n",
            "==============================================================================\n",
            "Dep. Variable:                 rating   R-squared:                       0.658\n",
            "Model:                            OLS   Adj. R-squared:                  0.658\n",
            "Method:                 Least Squares   F-statistic:                     5943.\n",
            "Date:                Fri, 04 Jun 2021   Prob (F-statistic):               0.00\n",
            "Time:                        18:48:55   Log-Likelihood:                -50787.\n",
            "No. Observations:               18522   AIC:                         1.016e+05\n",
            "Df Residuals:                   18515   BIC:                         1.016e+05\n",
            "Df Model:                           6                                         \n",
            "Covariance Type:            nonrobust                                         \n",
            "=================================================================================\n",
            "                    coef    std err          t      P>|t|      [0.025      0.975]\n",
            "---------------------------------------------------------------------------------\n",
            "Intercept        15.0992      0.507     29.783      0.000      14.105      16.093\n",
            "accuracy          2.1787      0.057     37.967      0.000       2.066       2.291\n",
            "cleanliness       2.1910      0.042     51.555      0.000       2.108       2.274\n",
            "checkin           0.5236      0.062      8.423      0.000       0.402       0.645\n",
            "communication     0.9302      0.067     13.968      0.000       0.800       1.061\n",
            "location          0.0139      0.046      0.301      0.763      -0.077       0.105\n",
            "value             2.6521      0.047     55.897      0.000       2.559       2.745\n",
            "==============================================================================\n",
            "Omnibus:                     7530.277   Durbin-Watson:                   1.944\n",
            "Prob(Omnibus):                  0.000   Jarque-Bera (JB):           118764.651\n",
            "Skew:                          -1.533   Prob(JB):                         0.00\n",
            "Kurtosis:                      15.020   Cond. No.                         429.\n",
            "==============================================================================\n",
            "\n",
            "Warnings:\n",
            "[1] Standard Errors assume that the covariance matrix of the errors is correctly specified.\n",
            "time: 96.6 ms (started: 2021-06-04 18:48:55 +00:00)\n"
          ],
          "name": "stdout"
        },
        {
          "output_type": "stream",
          "text": [
            "/usr/local/lib/python3.7/dist-packages/pandas/core/series.py:4536: SettingWithCopyWarning: \n",
            "A value is trying to be set on a copy of a slice from a DataFrame\n",
            "\n",
            "See the caveats in the documentation: https://pandas.pydata.org/pandas-docs/stable/user_guide/indexing.html#returning-a-view-versus-a-copy\n",
            "  downcast=downcast,\n"
          ],
          "name": "stderr"
        }
      ]
    },
    {
      "cell_type": "markdown",
      "metadata": {
        "id": "i9Lalo7srWMr"
      },
      "source": [
        "**T-test questions**:\n",
        "\n",
        "Which room types are significantly different in terms of nightly price?\n",
        "\n",
        "YOUR ANSWER (1-2 sentences): The rooms combos with significantly different prices were Entire Home/Hotel, Entire Home/Private, Entire Home/Shared, Hotel/Shared.\n",
        "\n",
        "\n",
        "Do the significances change if you perform Bonferroni correction to the alpha level: https://en.wikipedia.org/wiki/Bonferroni_correction ?\n",
        "\n",
        "YOUR ANSWER (1-2 sentences): with bonferroni correction Entire Home/Private and Hotel/Private were the only room combos with significantly different prices\n"
      ]
    },
    {
      "cell_type": "code",
      "metadata": {
        "id": "1gk4SDcE26Qq",
        "colab": {
          "base_uri": "https://localhost:8080/",
          "height": 190
        },
        "outputId": "15334be8-5a00-4ee8-9304-9779c430ab94"
      },
      "source": [
        "# your t-test code...\n",
        "from scipy.stats import ttest_ind\n",
        "df_Private_room=df[df.room_type=='Private room'][\"price\"].dropna()\n",
        "df_Entire_home=df[df.room_type=='Entire home/apt'][\"price\"].dropna()\n",
        "df_Hotel_room=df[df.room_type=='Hotel room'][\"price\"].dropna()\n",
        "df_Shared_room=df[df.room_type=='Shared room'][\"price\"].dropna()\n",
        "\n",
        "# it's significant when < 0.01 (alpha)\n",
        "Value1=('{:.5f}'.format(float(ttest_ind(df_Private_room,df_Entire_home).pvalue))) # p value of private_room and Entire_room\n",
        "Value2=('{:.5f}'.format(float(ttest_ind(df_Private_room, df_Hotel_room).pvalue))) # P value of private_room and Hotel_room\n",
        "Value3=('{:.5f}'.format(float(ttest_ind(df_Private_room, df_Shared_room).pvalue))) # P value of private_room and Shared_room\n",
        "Value4=('{:.5f}'.format(float(ttest_ind(df_Entire_home, df_Hotel_room).pvalue))) # P value of Entire_room and Hotel_room\n",
        "Value5=('{:.5f}'.format(float(ttest_ind(df_Entire_home, df_Shared_room).pvalue))) # P value of Entire_room and Shared_room\n",
        "Value6=('{:.5f}'.format(float(ttest_ind(df_Hotel_room, df_Shared_room).pvalue))) # P value of Hotel_room and Shared_room\n",
        "\n",
        "\n",
        "# Making 4 by 4 M\n",
        "table=[\n",
        "    [0,Value1,Value2,Value3],\n",
        "    [Value1,0,Value4,Value5],\n",
        "    [Value2,Value4,0,Value6],\n",
        "    [Value3,Value5,Value6,0]\n",
        "]\n",
        "\n",
        "p_table=pd.DataFrame(table,index=['Private room', 'Entire home/apt', 'Hotel room', 'Shared room'],columns=['Private room', 'Entire home/apt', 'Hotel room', 'Shared room'])\n",
        "p_table"
      ],
      "execution_count": 28,
      "outputs": [
        {
          "output_type": "execute_result",
          "data": {
            "text/html": [
              "<div>\n",
              "<style scoped>\n",
              "    .dataframe tbody tr th:only-of-type {\n",
              "        vertical-align: middle;\n",
              "    }\n",
              "\n",
              "    .dataframe tbody tr th {\n",
              "        vertical-align: top;\n",
              "    }\n",
              "\n",
              "    .dataframe thead th {\n",
              "        text-align: right;\n",
              "    }\n",
              "</style>\n",
              "<table border=\"1\" class=\"dataframe\">\n",
              "  <thead>\n",
              "    <tr style=\"text-align: right;\">\n",
              "      <th></th>\n",
              "      <th>Private room</th>\n",
              "      <th>Entire home/apt</th>\n",
              "      <th>Hotel room</th>\n",
              "      <th>Shared room</th>\n",
              "    </tr>\n",
              "  </thead>\n",
              "  <tbody>\n",
              "    <tr>\n",
              "      <th>Private room</th>\n",
              "      <td>0</td>\n",
              "      <td>0.00000</td>\n",
              "      <td>0.00006</td>\n",
              "      <td>0.45169</td>\n",
              "    </tr>\n",
              "    <tr>\n",
              "      <th>Entire home/apt</th>\n",
              "      <td>0.00000</td>\n",
              "      <td>0</td>\n",
              "      <td>0.00293</td>\n",
              "      <td>0.00218</td>\n",
              "    </tr>\n",
              "    <tr>\n",
              "      <th>Hotel room</th>\n",
              "      <td>0.00006</td>\n",
              "      <td>0.00293</td>\n",
              "      <td>0</td>\n",
              "      <td>0.31212</td>\n",
              "    </tr>\n",
              "    <tr>\n",
              "      <th>Shared room</th>\n",
              "      <td>0.45169</td>\n",
              "      <td>0.00218</td>\n",
              "      <td>0.31212</td>\n",
              "      <td>0</td>\n",
              "    </tr>\n",
              "  </tbody>\n",
              "</table>\n",
              "</div>"
            ],
            "text/plain": [
              "                Private room Entire home/apt Hotel room Shared room\n",
              "Private room               0         0.00000    0.00006     0.45169\n",
              "Entire home/apt      0.00000               0    0.00293     0.00218\n",
              "Hotel room           0.00006         0.00293          0     0.31212\n",
              "Shared room          0.45169         0.00218    0.31212           0"
            ]
          },
          "metadata": {
            "tags": []
          },
          "execution_count": 28
        },
        {
          "output_type": "stream",
          "text": [
            "time: 91.7 ms (started: 2021-06-04 18:48:55 +00:00)\n"
          ],
          "name": "stdout"
        }
      ]
    },
    {
      "cell_type": "markdown",
      "metadata": {
        "id": "t8mwnrOhboSC"
      },
      "source": [
        "## Question 2b: Linear regression with variable selection"
      ]
    },
    {
      "cell_type": "markdown",
      "metadata": {
        "id": "Z5aMn9YWrNnI"
      },
      "source": [
        "Provide a short justification (2-3 sentences) for your choice of variables.\n",
        "\n",
        "YOUR ANSWER: I choose those variable which has float or Int values "
      ]
    },
    {
      "cell_type": "code",
      "metadata": {
        "colab": {
          "base_uri": "https://localhost:8080/"
        },
        "id": "zOEODv1ro8WQ",
        "outputId": "bd0a8359-d641-401e-cdc4-c191859fa435"
      },
      "source": [
        "df_nan = pd.DataFrame(df[['host_is_superhost','host_listings_count','host_has_profile_pic','bedrooms','beds','reviews_per_month']])\n",
        "# df_pred\n",
        "for col in ['host_is_superhost','host_listings_count','host_has_profile_pic','bedrooms','beds','reviews_per_month']:\n",
        "            maan = int (df_nan[col].mean())\n",
        "            # print(maan)\n",
        "            df[col].fillna((maan), inplace=True) # reflect changes back to initial dataframe df"
      ],
      "execution_count": 29,
      "outputs": [
        {
          "output_type": "stream",
          "text": [
            "time: 11.1 ms (started: 2021-06-04 18:48:55 +00:00)\n"
          ],
          "name": "stdout"
        }
      ]
    },
    {
      "cell_type": "code",
      "metadata": {
        "colab": {
          "base_uri": "https://localhost:8080/"
        },
        "id": "aqJ15JgwfR2Y",
        "outputId": "b7562133-eefe-4449-8ff0-91c718052a5a"
      },
      "source": [
        "df_new=pd.get_dummies(df.room_type,prefix=\"room_type\")\n",
        "df_new=pd.concat([df,df_new],axis=1)\n",
        "df_new=df_new.drop(\"room_type\",axis=1)\n",
        "df_new.rename(columns={\"room_type_Entire home/apt\":\"Entire_home\",'room_type_Hotel room':'Hotel_room',\n",
        "                       'room_type_Private room':'Private_room','room_type_Shared room':'Shared_room'},inplace=True)"
      ],
      "execution_count": 30,
      "outputs": [
        {
          "output_type": "stream",
          "text": [
            "time: 34.1 ms (started: 2021-06-04 18:48:55 +00:00)\n"
          ],
          "name": "stdout"
        }
      ]
    },
    {
      "cell_type": "code",
      "metadata": {
        "id": "FWj8vwcLFIUL",
        "colab": {
          "base_uri": "https://localhost:8080/"
        },
        "outputId": "e391c400-1918-402d-f214-a9252fe15aa0"
      },
      "source": [
        "\n",
        "def variable_selection(df_new, predictors, alpha = 0.05):\n",
        "  dik = {}\n",
        "  d_strr = ''\n",
        "  max = []\n",
        "  larg=[]\n",
        "  larg1 = -30\n",
        "  next_iter = ''\n",
        "  for j in range(len(predictors)):\n",
        "    for i in predictors:\n",
        "      dev = 'price ~'\n",
        "      if i not in max:   #  Will avoid addition of duplicate attributes in the max list\n",
        "        for k in (max):   # used to convert list elements into string\n",
        "          d_strr += k + '+'\n",
        "        R_score=sm.OLS.from_formula(dev + d_strr + i,df_new).fit().rsquared # calculate R score for each combination\n",
        "        dik.update({i:R_score})\n",
        "        s_dict=dict(sorted(dik.items(),key=operator.itemgetter(1),reverse=True)) # sort the dict elements in an order\n",
        "        larg = list(s_dict.values())[0]  # store the key value of first elements from dict to variable\n",
        "        next_iter = next(iter(s_dict))\n",
        "  \n",
        "   # Will verify if previous calculated r score value is less than new value then add into the list\n",
        "    if larg1 < larg: \n",
        "      larg1 = larg  \n",
        "      if next_iter not in max:\n",
        "        max.append(next_iter)\n",
        "    else:\n",
        "      break\n",
        "\n",
        "  return max"
      ],
      "execution_count": 31,
      "outputs": [
        {
          "output_type": "stream",
          "text": [
            "time: 19.6 ms (started: 2021-06-04 18:48:55 +00:00)\n"
          ],
          "name": "stdout"
        }
      ]
    },
    {
      "cell_type": "code",
      "metadata": {
        "colab": {
          "base_uri": "https://localhost:8080/"
        },
        "id": "5Cjuk52LU2jz",
        "outputId": "6dadb54b-0bb6-4fee-9a84-a2e0e5ba031c"
      },
      "source": [
        "predictors = [ 'availability_365','number_of_reviews','instant_bookable','host_listings_count','latitude','bedrooms','review_scores_value',\n",
        "              'maximum_nights','host_days','Entire_home','Hotel_room','Private_room','Shared_room','beds']\n",
        "alpha = 0.05\n",
        "max=variable_selection(df_new, predictors, alpha) # call function\n",
        "max"
      ],
      "execution_count": 32,
      "outputs": [
        {
          "output_type": "execute_result",
          "data": {
            "text/plain": [
              "['bedrooms',\n",
              " 'review_scores_value',\n",
              " 'Private_room',\n",
              " 'availability_365',\n",
              " 'beds',\n",
              " 'host_listings_count',\n",
              " 'number_of_reviews',\n",
              " 'Entire_home',\n",
              " 'host_days',\n",
              " 'latitude',\n",
              " 'maximum_nights',\n",
              " 'instant_bookable',\n",
              " 'Hotel_room']"
            ]
          },
          "metadata": {
            "tags": []
          },
          "execution_count": 32
        },
        {
          "output_type": "stream",
          "text": [
            "time: 5.1 s (started: 2021-06-04 18:48:55 +00:00)\n"
          ],
          "name": "stdout"
        }
      ]
    },
    {
      "cell_type": "code",
      "metadata": {
        "colab": {
          "base_uri": "https://localhost:8080/"
        },
        "id": "ru0z85bx9BQb",
        "outputId": "8b8cfb25-c056-4552-8a4b-a925afe73401"
      },
      "source": [
        "\n",
        "def remove_var(df_new, max, alpha):\n",
        "  '''Using  p value  drop the variables .\n",
        "  '''\n",
        "\n",
        "  dick1 = {}\n",
        "  p_larg = []\n",
        "  p_next_iter = ''\n",
        "  alpha = 0.05\n",
        "  counter =0\n",
        "  dick = {}\n",
        "  d_strr = ''\n",
        "  d_lst = []\n",
        "  max_final= []\n",
        "  larg=[]\n",
        "  larg1 = -30\n",
        "  next_iter = ''\n",
        "  maxx = []  \n",
        "  s_dict = {}\n",
        "\n",
        "  for j in range(len(max)):\n",
        "    for i in max:\n",
        "      # dz =pd.Series(df[i])\n",
        "      p_val = ttest_ind(df['price'], df_new[i]).pvalue\n",
        "      dick1.update({i:p_val})\n",
        "      p_dict=dict(sorted(dick1.items(),key=operator.itemgetter(1),reverse=True))\n",
        "      p_larg = list(s_dict.values())[0]\n",
        "      p_next_iter = next(iter(s_dict))  \n",
        "\n",
        "    if p_larg > alpha :\n",
        "      max.remove(p_next_iter)\n",
        "      predictors = max\n",
        "      for j in range(len(max)):\n",
        "        for i in max:\n",
        "          dev = 'price ~'\n",
        "          if i not in max:        #  Will avoid addition of duplicate attributes in the max list    \n",
        "            for k in (max):       # used to convert list elements into string\n",
        "              d_strr += k + '+'\n",
        "            R_score=sm.OLS.from_formula(dev + d_strr + i,df_new).fit().rsquared  # calculate R score for each combination\n",
        "            dick.update({i:R_score})\n",
        "            s_dict=dict(sorted(dick.items(),key=operator.itemgetter(1),reverse=True))\n",
        "            larg = list(s_dict.values())[0]  # store the key value of first elements from dict to variable\n",
        "            next_iter = next(iter(s_dict))\n",
        "\n",
        "      # Will verify if previous calculated r score value is less than new value then add into the list\n",
        "      if larg1 < larg:\n",
        "        larg1 = larg  \n",
        "        if next_iter not in max:\n",
        "          max.append(next_iter)\n",
        "      else:\n",
        "        break\n",
        "  print(max)\n",
        "  print(len(max))\n",
        "  return max \n"
      ],
      "execution_count": 33,
      "outputs": [
        {
          "output_type": "stream",
          "text": [
            "time: 48 ms (started: 2021-06-04 18:49:01 +00:00)\n"
          ],
          "name": "stdout"
        }
      ]
    },
    {
      "cell_type": "markdown",
      "metadata": {
        "id": "lzz5uexvkgil"
      },
      "source": [
        "## Question 2c: Recommendation systems"
      ]
    },
    {
      "cell_type": "markdown",
      "metadata": {
        "id": "uW-LealN0kOU"
      },
      "source": [
        "### Recommend a neighbourhood given a budget"
      ]
    },
    {
      "cell_type": "code",
      "metadata": {
        "id": "DqUlxeDk4Hww",
        "colab": {
          "base_uri": "https://localhost:8080/",
          "height": 52
        },
        "outputId": "f59dc7e7-8ea7-4e5d-e804-38bd8e8e49ae"
      },
      "source": [
        "def recommend_neighbourhood(df, budget_min, budget_max, relative):\n",
        "\n",
        "  '''The function will take dataframe as argument, a range of budget from minimum and maximum and the variable \n",
        "  relative is a Boolean specifying whether relative numbers (fractions) should be considered \n",
        "  in the recommendation. If False, absolute numbers are considered instead. '''\n",
        "\n",
        "  neighb_list = ['Oostelijk Havengebied - Indische Buurt', 'Centrum-Oost',\n",
        "        'Centrum-West', 'Zuid', 'De Pijp - Rivierenbuurt',\n",
        "        'De Baarsjes - Oud-West', 'Bos en Lommer', 'Westerpark',\n",
        "        'Oud-Oost', 'Noord-West', 'Slotervaart', 'Oud-Noord',\n",
        "        'Buitenveldert - Zuidas', 'Geuzenveld - Slotermeer',\n",
        "        'Watergraafsmeer', 'IJburg - Zeeburgereiland', 'Noord-Oost',\n",
        "        'Gaasperdam - Driemond', 'Bijlmer-Oost', 'Osdorp',\n",
        "        'Bijlmer-Centrum', 'De Aker - Nieuw Sloten']\n",
        "  neighb_hood = []\n",
        "  for i in tqdm(df['neighbourhood_cleansed']):\n",
        "    neighb_hood.append(i)\n",
        "    dic_neigh = dict(Counter(neighb_hood))\n",
        "    dic_neigh_sorted = dict(sorted(dic_neigh.items(),key=operator.itemgetter(1),reverse=True))\n",
        "  min_bud = float(budget_min)\n",
        "  max_bud = float(budget_max)\n",
        "  \n",
        "  sorted_large_dic = {}\n",
        "  large_dic = {}\n",
        "  lst_large_neigh = []\n",
        "  for count, value in enumerate(df['price']):\n",
        "    if value in np.arange(min_bud,max_bud):\n",
        "      lst_large_neigh.append(df['neighbourhood_cleansed'][count])\n",
        "      large_dic=dict(Counter(lst_large_neigh))\n",
        "      sorted_large_dic=dict(sorted(large_dic.items(),key=operator.itemgetter(1),reverse=True))\n",
        "  # calculating absolute value and storing it in dictionary\n",
        "  ab_result = (next(iter(sorted_large_dic)))\n",
        "  def checkKey(dic, key):\n",
        "    ''' This function checks whether key is present in dictionary or not \n",
        "        argument : dictionary , key (string)\n",
        "        return   : int '''\n",
        "    if key in dic.keys():\n",
        "      val = dic[key]\n",
        "    else:\n",
        "      val = 0\n",
        "    return val   \n",
        "\n",
        "  # iterating through the list of all neighbours in dataframe     \n",
        "  rel_dic = {}\n",
        "  for i in neighb_list:\n",
        "    ab = 0\n",
        "    rl = 0\n",
        "    ab = checkKey(sorted_large_dic,i)\n",
        "    rel = checkKey(dic_neigh_sorted,i)\n",
        "    rel_val = float(ab/rel)           # calculating relative value\n",
        "    rel_dic.update({i:rel_val})       # updating values in dictionary\n",
        "    sort_rel_dic = dict(sorted(rel_dic.items(),key=operator.itemgetter(1),reverse=True))\n",
        "  rel_result = next(iter(sort_rel_dic))\n",
        " \n",
        "  # checking if user requires relative or absolute value\n",
        "  if relative is True:\n",
        "    return rel_result\n",
        "  else:\n",
        "    return ab_result\n",
        "\n",
        " \n",
        "\n",
        "\n",
        "recommend_neighbourhood(df,10,50,False) # Function call"
      ],
      "execution_count": 34,
      "outputs": [
        {
          "output_type": "stream",
          "text": [
            "100%|██████████| 18522/18522 [00:11<00:00, 1626.63it/s]\n"
          ],
          "name": "stderr"
        },
        {
          "output_type": "execute_result",
          "data": {
            "application/vnd.google.colaboratory.intrinsic+json": {
              "type": "string"
            },
            "text/plain": [
              "'De Baarsjes - Oud-West'"
            ]
          },
          "metadata": {
            "tags": []
          },
          "execution_count": 34
        },
        {
          "output_type": "stream",
          "text": [
            "time: 11.6 s (started: 2021-06-04 18:49:01 +00:00)\n"
          ],
          "name": "stdout"
        }
      ]
    },
    {
      "cell_type": "markdown",
      "metadata": {
        "id": "a-FSWRJ6zSMM"
      },
      "source": [
        "### Price recommender for hosts"
      ]
    },
    {
      "cell_type": "code",
      "metadata": {
        "colab": {
          "base_uri": "https://localhost:8080/"
        },
        "id": "KOCnvMZKSpqO",
        "outputId": "d0efd2e1-59f5-4553-da67-daeb08ad8690"
      },
      "source": [
        "\n",
        "def recommend_price(df, latitude, longitude,n_neighbours, room_t = None):\n",
        "  '''\n",
        "  This function recommend price to the user by taking consideration of below arguments:\n",
        "  argument : DataFrame , latitude (float number),longitude (float number),n_neighbours(integer), room type(string)\n",
        "  return   : average nighty price (float)\n",
        "  '''\n",
        "  pd.options.mode.chained_assignment = None\n",
        "  # room type user is allowed to enter\n",
        "  room_list = ['Private room', 'Entire home/apt', 'Hotel room', 'Shared room',None] \n",
        "  if room_t in room_list:\n",
        "    df['distance'] = 0.000\n",
        "    # converting user input location into 1D array\n",
        "    user_loc = (latitude,longitude)              \n",
        "    for i in tqdm(range(len(df.longitude))):\n",
        "      lat = df['latitude'][i]\n",
        "      lon = df['longitude'][i]\n",
        "      host_loc = (lat,lon)\n",
        "      # calculating euclidean distance and storing it in new column\n",
        "      df['distance'][i] = distance.euclidean(user_loc, host_loc)   #\n",
        "    if room_t == None:\n",
        "\n",
        "      # sorting distance to find the closest property\n",
        "      df_sorted = df.sort_values('distance')          \n",
        "      df_sorted = df_sorted[0:n_neighbours]\n",
        "      price_mean = df_sorted['price'].mean()\n",
        "      return price_mean\n",
        "    else:\n",
        "\n",
        "      # sorting dataframe according to the room type\n",
        "      df_room = df[df.room_type.eq(room_t)]          \n",
        "      df_room = df_room.sort_values('distance')\n",
        "      # triming dataframe according to the number of neighbours\n",
        "      df_room = df_room[0:n_neighbours] \n",
        "\n",
        "      # calculating mean value of price.               \n",
        "      room_price_mean = df_room['price'].mean()        \n",
        "      return room_price_mean\n",
        "  else:\n",
        "    # if user enter room type that is not defined/ none then return this string\n",
        "    return 'room type not defined'                     \n",
        "\n",
        "\n",
        "# function call\n",
        "recommend_price(df,37.6767,5.76768,10,'Entire home/apt')"
      ],
      "execution_count": 35,
      "outputs": [
        {
          "output_type": "stream",
          "text": [
            "100%|██████████| 18522/18522 [00:02<00:00, 8425.88it/s]\n"
          ],
          "name": "stderr"
        },
        {
          "output_type": "execute_result",
          "data": {
            "text/plain": [
              "115.4"
            ]
          },
          "metadata": {
            "tags": []
          },
          "execution_count": 35
        },
        {
          "output_type": "stream",
          "text": [
            "time: 2.25 s (started: 2021-06-04 18:49:12 +00:00)\n"
          ],
          "name": "stdout"
        }
      ]
    },
    {
      "cell_type": "code",
      "metadata": {
        "id": "wTMdTWCgtNSE"
      },
      "source": [
        ""
      ],
      "execution_count": 35,
      "outputs": []
    }
  ]
}