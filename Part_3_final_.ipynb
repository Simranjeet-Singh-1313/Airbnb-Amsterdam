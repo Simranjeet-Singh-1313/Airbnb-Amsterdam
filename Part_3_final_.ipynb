{
  "nbformat": 4,
  "nbformat_minor": 0,
  "metadata": {
    "colab": {
      "name": "Part_3_final_.ipynb",
      "private_outputs": true,
      "provenance": [],
      "collapsed_sections": [],
      "include_colab_link": true
    },
    "kernelspec": {
      "display_name": "Python 3",
      "language": "python",
      "name": "python3"
    },
    "language_info": {
      "codemirror_mode": {
        "name": "ipython",
        "version": 3
      },
      "file_extension": ".py",
      "mimetype": "text/x-python",
      "name": "python",
      "nbconvert_exporter": "python",
      "pygments_lexer": "ipython3",
      "version": "3.6.12"
    },
    "accelerator": "TPU"
  },
  "cells": [
    {
      "cell_type": "markdown",
      "metadata": {
        "id": "view-in-github",
        "colab_type": "text"
      },
      "source": [
        "<a href=\"https://colab.research.google.com/github/Simranjeet-Singh-1313/Airbnb-Amsterdam/blob/main/Part_3_final_.ipynb\" target=\"_parent\"><img src=\"https://colab.research.google.com/assets/colab-badge.svg\" alt=\"Open In Colab\"/></a>"
      ]
    },
    {
      "cell_type": "markdown",
      "metadata": {
        "id": "CRlf-VjoOZ8O"
      },
      "source": [
        "# Part 3 - Text analysis and ethics"
      ]
    },
    {
      "cell_type": "markdown",
      "metadata": {
        "id": "tU8BnCXIOZ8T"
      },
      "source": [
        "# 3.a Computing PMI\n",
        "\n",
        "In this assessment you are tasked to discover strong associations between concepts in Airbnb reviews. The starter code we provide in this notebook is for orientation only. The below imports are enough to implement a valid answer."
      ]
    },
    {
      "cell_type": "markdown",
      "metadata": {
        "id": "x_BJYvjpOZ8U"
      },
      "source": [
        "### Imports, data loading and helper functions\n",
        "\n",
        "We first connect our google drive, import pandas, numpy and some useful nltk and collections modules, then load the dataframe and define a function for printing the current time, useful to log our progress in some of the tasks."
      ]
    },
    {
      "cell_type": "code",
      "metadata": {
        "id": "0z_s4GpwOZ8U"
      },
      "source": [
        "import pandas as pd\n",
        "from nltk.tag import pos_tag\n",
        "import re\n",
        "from collections import defaultdict,Counter\n",
        "from nltk.stem import WordNetLemmatizer\n",
        "from datetime import datetime\n",
        "from tqdm import tqdm\n",
        "import numpy as np\n",
        "import os\n",
        "import scipy.sparse\n",
        "import string\n",
        "tqdm.pandas()"
      ],
      "execution_count": null,
      "outputs": []
    },
    {
      "cell_type": "code",
      "metadata": {
        "id": "VFP8c6HlPF_-"
      },
      "source": [
        "# nltk imports, note that these outputs may be different if you are using colab or local jupyter notebooks\n",
        "import nltk\n",
        "nltk.download('stopwords')\n",
        "nltk.download('punkt')\n",
        "nltk.download('averaged_perceptron_tagger')\n",
        "from nltk.corpus import stopwords\n",
        "from nltk.tokenize import word_tokenize,sent_tokenize"
      ],
      "execution_count": null,
      "outputs": []
    },
    {
      "cell_type": "code",
      "metadata": {
        "id": "9JOWJqE9Pq5V"
      },
      "source": [
        "# load stopwords\n",
        "sw = set(stopwords.words('english'))"
      ],
      "execution_count": null,
      "outputs": []
    },
    {
      "cell_type": "code",
      "metadata": {
        "id": "Mw9FDi4T4kZU"
      },
      "source": [
        "from google.colab import drive\n",
        "drive.mount(\"/content/drive\")\n"
      ],
      "execution_count": null,
      "outputs": []
    },
    {
      "cell_type": "code",
      "metadata": {
        "id": "LVD9Q3AxOZ8V"
      },
      "source": [
        "p = 'some_directory'\n",
        "df = pd.read_csv(os.path.join(p,'/content/drive/MyDrive/Computational Data science/reviews.csv'))\n",
        "# deal with empty reviews\n",
        "df.comments = df.comments.fillna('')"
      ],
      "execution_count": null,
      "outputs": []
    },
    {
      "cell_type": "code",
      "metadata": {
        "id": "pNgPCqMPOZ8V"
      },
      "source": [
        "df.head()"
      ],
      "execution_count": null,
      "outputs": []
    },
    {
      "cell_type": "code",
      "metadata": {
        "id": "O_9leP4VOZ8W"
      },
      "source": [
        "df.shape"
      ],
      "execution_count": null,
      "outputs": []
    },
    {
      "cell_type": "code",
      "metadata": {
        "id": "DOMwVm-sWrCu"
      },
      "source": [
        "df=df[:200000]"
      ],
      "execution_count": null,
      "outputs": []
    },
    {
      "cell_type": "markdown",
      "metadata": {
        "id": "fJfVvyXyPYS4"
      },
      "source": [
        "### 3.a1 - Process reviews\n",
        "\n",
        "What to implement: A `function process_reviews(df)` that will take as input the original dataframe and will return it with three additional columns: `tokenized`, `tagged` and `lower_tagged`."
      ]
    },
    {
      "cell_type": "code",
      "metadata": {
        "id": "b7jF_XXsQYgK"
      },
      "source": [
        "# def process_reviews(df):\n",
        "#   df[\"tokenized\"]=df.comments.apply(word_tokenize)\n",
        "#   df[\"tagged\"]=df.tokenized.apply(pos_tag)\n",
        "#   df[\"lower_comments\"]=df.comments.apply(str.lower)\n",
        "#   df[\"lower_tagged\"]=df.lower_comments.apply(lambda x: pos_tag(word_tokenize(x)))\n",
        "#   df.drop(['lower_comments'],axis=1,inplace=True)\n",
        "#   return df"
      ],
      "execution_count": null,
      "outputs": []
    },
    {
      "cell_type": "code",
      "metadata": {
        "id": "4ZP00pmliHMN"
      },
      "source": [
        "def process_reviews(df):\n",
        "  df['tokenized'] = df['comments'].apply(word_tokenize)\n",
        "  df[\"sen_tokenized\"] = df.comments.apply(sent_tokenize)\n",
        "  tag = []\n",
        "  for comment in df.comments:\n",
        "    tag.append(pos_tag(comment.translate(str.maketrans('', '', string.punctuation)).split()))\n",
        "  df[\"tagged\"] = tag\n",
        "  lower_tag = []\n",
        "  for tag in df.tagged:\n",
        "    lwr_tag = []\n",
        "    for word in tag:\n",
        "      wrd = (word[0].lower(), word[1])\n",
        "      lwr_tag.append(wrd)\n",
        "    lower_tag.append(lwr_tag)\n",
        "  df[\"lower_tagged\"] = lower_tag\n",
        "  return df"
      ],
      "execution_count": null,
      "outputs": []
    },
    {
      "cell_type": "code",
      "metadata": {
        "id": "rGYB8gx5Qq-P"
      },
      "source": [
        "df=process_reviews(df)"
      ],
      "execution_count": null,
      "outputs": []
    },
    {
      "cell_type": "markdown",
      "metadata": {
        "id": "sUaH-yNlQRL9"
      },
      "source": [
        "### 3.a2 - Create a vocabulary\n",
        "\n",
        "What to implement: A function `get_vocab(df)` which takes as input the DataFrame generated in step 1.c, and returns two lists, one for the 1,000 most frequent center words (nouns) and one for the 1,000 most frequent context words (either verbs or adjectives). "
      ]
    },
    {
      "cell_type": "code",
      "metadata": {
        "id": "sAg6VRwdQQmg"
      },
      "source": [
        "def get_vocab(df):\n",
        "  New_list=[]\n",
        "  New_list1=[]\n",
        "  for i in range(len(df.lower_tagged)):\n",
        "    x=df[\"lower_tagged\"][i]\n",
        "    New_list.append(x)\n",
        "  Z=list(New_list)\n",
        "  New_list1=[]\n",
        "  for j in range(len(Z)):\n",
        "    t=Z[j]\n",
        "    for k in range(len(t)):\n",
        "      p=Z[j][k]\n",
        "      New_list1.append(p)\n",
        "  noun_list =[]\n",
        "  verb_list = []\n",
        "  noun_in = ['NNP','NNS','NNPS','NN']\n",
        "  verb_in = ['JJS','JJ','JJR']\n",
        "  for tok,tag in New_list1:\n",
        "    if tag in noun_in:\n",
        "      noun_list.append(tok)\n",
        "    elif tag in verb_in:\n",
        "      verb_list.append(tok)\n",
        "  noun_count = Counter(noun_list)\n",
        "  verb_count = Counter(verb_list)\n",
        "  noun_sorted = noun_count.most_common(1010)\n",
        "  verb_sorted = verb_count.most_common(1375)\n",
        "  New_verb=[]\n",
        "  New_noun=[]\n",
        "  for i in tqdm(range(len(verb_sorted))):\n",
        "    L=verb_sorted[i][0]\n",
        "    New_verb.append(L)\n",
        "  New_verb\n",
        "  for i in tqdm(range(len(noun_sorted))):\n",
        "    L=noun_sorted[i][0]\n",
        "    New_noun.append(L)\n",
        "\n",
        "  New_noun = [''.join(c for c in s if c not in string.punctuation) for s in New_noun]\n",
        "  New_noun = [s for s in New_noun if s]\n",
        "  New_verb = [''.join(c for c in s if c not in string.punctuation) for s in New_verb]\n",
        "  New_verb = [s for s in New_verb if s]\n",
        "  print(len(New_noun),len(New_verb))\n",
        "  final_verb=[]\n",
        "  for i in New_verb:\n",
        "    if i not in New_noun:\n",
        "  \n",
        "      final_verb.append(i)\n",
        "\n",
        "  cent_vocab = New_noun[:1000]\n",
        "  cont_vocab = final_verb[:1000]\n",
        "  return cent_vocab, cont_vocab"
      ],
      "execution_count": null,
      "outputs": []
    },
    {
      "cell_type": "code",
      "metadata": {
        "id": "F_R5l4IVSk9-"
      },
      "source": [
        "cent_vocab, cont_vocab = get_vocab(df)"
      ],
      "execution_count": null,
      "outputs": []
    },
    {
      "cell_type": "code",
      "metadata": {
        "id": "ReNoSQTBg4Of"
      },
      "source": [
        "print(\"Center_vocab List :\",cent_vocab,'\\n',\n",
        "      \"Context_vocab List :\",cont_vocab)"
      ],
      "execution_count": null,
      "outputs": []
    },
    {
      "cell_type": "markdown",
      "metadata": {
        "id": "qkqRGdQ_RUMg"
      },
      "source": [
        "### 3.a3 Count co-occurrences between center and context words\n",
        "\n",
        "What to implement: A function `get_coocs(df, center_vocab, context_vocab)` which takes as input the DataFrame generated in step 1, and the lists generated in step 2 and returns a dictionary of dictionaries, of the form in the example above. It is up to you how you define context (full review? per sentence? a sliding window of fixed size?), and how to deal with exceptional cases (center words occurring more than once, center and context words being part of your vocabulary because they are frequent both as a noun and as a verb, etc). Use comments in your code to justify your approach. "
      ]
    },
    {
      "cell_type": "code",
      "metadata": {
        "id": "ddnfCbQWRd5R"
      },
      "source": [
        "def get_coocs(df, cent_vocab, cont_vocab):\n",
        "\n",
        "  X=(df[\"comments\"].apply(str.lower))\n",
        "  X=list(X)\n",
        "\n",
        "  sentence_tokenize_lst=[]  # sentence tokenisation \n",
        "  for i in (X):\n",
        "    k=sent_tokenize(i)\n",
        "    sentence_tokenize_lst.append(k)\n",
        "\n",
        "  word_tokenizer_list=[] # then word tokenisation\n",
        "  for i in range(len(X)):\n",
        "    for j in range(len(sentence_tokenize_lst[i])):\n",
        "      T=word_tokenize(sentence_tokenize_lst[i][j])\n",
        "      word_tokenizer_list.append(T)\n",
        "\n",
        "  find_context_vocab=[]\n",
        "  for i in range(len(word_tokenizer_list)):\n",
        "    context_vocab_list = []    # search context_vocab from each sentence and store in context_vocab_list\n",
        "    for j in cont_vocab:\n",
        "      if j in word_tokenizer_list[i]:\n",
        "        context_vocab_list.append(j)\n",
        "      if j is '.':\n",
        "       break\n",
        "    find_context_vocab.append(context_vocab_list)\n",
        "\n",
        "  count_context_vocab=[]\n",
        "  for i in range(len(find_context_vocab)):\n",
        "    K=dict(Counter(find_context_vocab[i]))\n",
        "    count_context_vocab.append(K)   \n",
        "\n",
        "  find_center_vocab=[]\n",
        "  for i in (range(len(word_tokenizer_list))):\n",
        "    center_vocab_list = []\n",
        "    for j in cent_vocab:\n",
        "      if j in word_tokenizer_list[i]:\n",
        "        center_vocab_list.append(j)\n",
        "      if j is '.':\n",
        "        break\n",
        "    find_center_vocab.append(center_vocab_list)\n",
        "\n",
        "\n",
        "\n",
        "  count_center_vocab=[]\n",
        "  for i in range(len(find_center_vocab)):\n",
        "    K=dict(Counter(find_center_vocab[i]))\n",
        "    count_center_vocab.append(K)\n",
        "\n",
        "  for i in range(len(count_center_vocab)):\n",
        "    for j in count_center_vocab[i]:\n",
        "      count_center_vocab[i][j]=count_context_vocab[i]\n",
        "  # print(sim_lst_noun)\n",
        "  new_list=[]\n",
        "  for i in range(len(count_center_vocab)):\n",
        "    final_dict={}\n",
        "    for j in count_center_vocab[i]:\n",
        "      final_dict[j]=count_center_vocab[i][j]\n",
        "      break\n",
        "    new_list.append(final_dict)\n",
        "# print(final_lst)\n",
        "  while {} in new_list:\n",
        "    new_list.remove({})\n",
        "\n",
        "  coocs=[]\n",
        "  for i in range(len(new_list)):\n",
        "    if new_list[i].get(next(iter(new_list[i])))!={}:\n",
        "      coocs .append(new_list[i])\n",
        "  return coocs  "
      ],
      "execution_count": null,
      "outputs": []
    },
    {
      "cell_type": "code",
      "metadata": {
        "id": "iTT_TOkaSoXL"
      },
      "source": [
        "coocs = get_coocs(df, cent_vocab, cont_vocab)"
      ],
      "execution_count": null,
      "outputs": []
    },
    {
      "cell_type": "code",
      "metadata": {
        "id": "C13EK1lOgY_9"
      },
      "source": [
        "coocs"
      ],
      "execution_count": null,
      "outputs": []
    },
    {
      "cell_type": "markdown",
      "metadata": {
        "id": "be6mOXqMRlt-"
      },
      "source": [
        "### 3.a4 Convert co-occurrence dictionary to 1000x1000 dataframe\n",
        "What to implement: A function called `cooc_dict2df(cooc_dict)`, which takes as input the dictionary of dictionaries generated in step 3 and returns a DataFrame where each row corresponds to one center word, and each column corresponds to one context word, and cells are their corresponding co-occurrence value. Some (x,y) pairs will never co-occur, you should have a 0 value for those cases. "
      ]
    },
    {
      "cell_type": "code",
      "metadata": {
        "id": "C6WuM5U7RsBJ"
      },
      "source": [
        "def cooc_dict2df(coocs):\n",
        "  dict1={}\n",
        "  for i in cent_vocab:\n",
        "    dict1[i]=[]\n",
        "  for i in range(len(coocs)):\n",
        "    for key in cent_vocab:\n",
        "      if key ==next(iter(coocs[i])):\n",
        "        # print(key.values() from final_list)\n",
        "        dict1[key].append(coocs[i].get(key))\n",
        "  # dict1\n",
        "\n",
        "  t_list=[]\n",
        "\n",
        "  for i in cent_vocab:\n",
        "   # print(i)\n",
        "    a_list=[]\n",
        "    for j in range(len(dict1[i])):\n",
        "      k=next(iter(dict1[i][j]))\n",
        "     # print(i,k)\n",
        "      a_list.append(k)\n",
        "    t_list.append(a_list)\n",
        "\n",
        "  dict2=[]\n",
        "  dict3={}\n",
        "  for i,j in zip(cent_vocab,range(len(cent_vocab))):\n",
        "    k=dict(Counter(t_list[j]))\n",
        "    dict2.append(k)\n",
        "    dict3[i]=dict2[j]\n",
        "  # print(len(dict3))\n",
        "  coocdf = pd.DataFrame.from_dict(dict3,orient = 'index',dtype=\"Int64\").fillna(0)\n",
        "  return coocdf"
      ],
      "execution_count": null,
      "outputs": []
    },
    {
      "cell_type": "code",
      "metadata": {
        "id": "cwAflxldSrbg"
      },
      "source": [
        "coocdf = cooc_dict2df(coocs)\n",
        "print(coocdf.shape)\n",
        "coocdf"
      ],
      "execution_count": null,
      "outputs": []
    },
    {
      "cell_type": "markdown",
      "metadata": {
        "id": "3EWllWryR-QL"
      },
      "source": [
        "### 3.a5 Raw co-occurrences to PMI scores\n",
        "\n",
        "What to implement: A function `cooc2pmi(df)` that takes as input the DataFrame generated in step 4, and returns a new DataFrame with the same rows and columns, but with PMI scores instead of raw co-occurrence counts. "
      ]
    },
    {
      "cell_type": "code",
      "metadata": {
        "id": "frTTs7-eSFHv"
      },
      "source": [
        "def cooc2pmi(df):\n",
        "  # your code here\n",
        "  row_totals = df.sum(axis=1).astype(float)\n",
        "  prob_cols_given_row = (df.T / row_totals).T\n",
        "  col_totals = df.sum(axis=0).astype(float)\n",
        "  prob_of_cols = col_totals / sum(col_totals)\n",
        "  ratio = prob_cols_given_row / prob_of_cols\n",
        "  ratio[ratio==0] = 0.00001\n",
        "  pmidf = np.log(ratio)\n",
        "  pmidf[pmidf < 0] = 0\n",
        "  return pmidf"
      ],
      "execution_count": null,
      "outputs": []
    },
    {
      "cell_type": "code",
      "metadata": {
        "id": "AGftXjXRSuQw"
      },
      "source": [
        "pmidf = cooc2pmi(coocdf)\n"
      ],
      "execution_count": null,
      "outputs": []
    },
    {
      "cell_type": "code",
      "metadata": {
        "id": "Aq_FOX31gviS"
      },
      "source": [
        "print(pmidf.shape)\n",
        "pmidf"
      ],
      "execution_count": null,
      "outputs": []
    },
    {
      "cell_type": "markdown",
      "metadata": {
        "id": "zaLRvjRySOYB"
      },
      "source": [
        "### 3.a6 Retrieve top-k context words, given a center word\n",
        "\n",
        "What to implement: A function `topk(df, center_word, N=10)` that takes as input: (1) the DataFrame generated in step 5, (2) a `center_word` (a string like `‘towels’`), and (3) an optional named argument called `N` with default value of 10; and returns a list of `N` strings, in order of their PMI score with the `center_word`. You do not need to handle cases for which the word `center_word` is not found in `df`. "
      ]
    },
    {
      "cell_type": "code",
      "metadata": {
        "id": "wx8BtiS9mIUT"
      },
      "source": [
        "def topk(df, center_word, N=10):\n",
        " top_words = df[center_word].sort_values(ascending = False).head(N)\n",
        " return top_words"
      ],
      "execution_count": null,
      "outputs": []
    },
    {
      "cell_type": "code",
      "metadata": {
        "id": "1I038zG1Sw62"
      },
      "source": [
        "topk(pmidf, 'public')"
      ],
      "execution_count": null,
      "outputs": []
    },
    {
      "cell_type": "markdown",
      "metadata": {
        "id": "Hfcm5-7b0HKO"
      },
      "source": [
        "# 3.b Ethical, social and legal implications\n",
        "\n"
      ]
    },
    {
      "cell_type": "markdown",
      "metadata": {
        "id": "qd3uf-Qq4tYg"
      },
      "source": [
        "Local authorities in touristic hotspots like Amsterdam, NYC or Barcelona regulate the price of recreational apartments for rent to, among others, ensure that fair rent prices are kept for year-long residents. Consider your price recommender for hosts in Question 2c. Imagine that Airbnb recommends a new host to put the price of your flat at a price which is above the official regulations established by the local government. Upon inspection, you realize that the inflated price you have been recommended comes from many apartments in the area only being offered during an annual event which brings many tourists, and which causes prices to rise. \n",
        "\n",
        "In this context, critically reflect on the compliance of this recommender system with **one of the five actions** outlined in the **UK’s Data Ethics Framework**. You should prioritize the action that, in your opinion, is the weakest. Then, justify your choice by critically analyzing the three **key principles** outlined in the Framework, namely _transparency_, _accountability_ and _fairness_. Finally, you should propose and critically justify a solution that would improve the recommender system in at least one of these principles. You are strongly encouraged to follow a scholarly approach, e.g., with peer-reviewed references as support. \n",
        "\n",
        "Your report should be between 500 and 750 words long.  "
      ]
    },
    {
      "cell_type": "markdown",
      "metadata": {
        "id": "A6QJyuP6I1Ht"
      },
      "source": [
        "### Your answer here. No Python, only Markdown.\n",
        "\n",
        "Write your answer after the line.\n",
        "\n",
        "---\n",
        "\n",
        "..."
      ]
    }
  ]
}